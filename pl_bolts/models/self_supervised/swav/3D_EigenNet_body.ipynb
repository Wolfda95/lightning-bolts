{
 "cells": [
  {
   "cell_type": "code",
   "execution_count": 5,
   "id": "97dc417f-4758-4de2-ad74-24752f3ca7ea",
   "metadata": {},
   "outputs": [
    {
     "name": "stdout",
     "output_type": "stream",
     "text": [
      "MONAI version: 0.6.0\n",
      "Numpy version: 1.20.2\n",
      "Pytorch version: 1.9.0\n",
      "MONAI flags: HAS_EXT = False, USE_COMPILED = False\n",
      "MONAI rev id: 0ad9e73639e30f4f1af5a1f4a45da9cb09930179\n",
      "\n",
      "Optional dependencies:\n",
      "Pytorch Ignite version: 0.4.5\n",
      "Nibabel version: 3.0.2\n",
      "scikit-image version: 0.18.3\n",
      "Pillow version: 8.2.0\n",
      "Tensorboard version: 2.2.0\n",
      "gdown version: 3.10.1\n",
      "TorchVision version: 0.2.2\n",
      "ITK version: NOT INSTALLED or UNKNOWN VERSION.\n",
      "tqdm version: 4.61.1\n",
      "lmdb version: 1.2.1\n",
      "psutil version: 5.8.0\n",
      "pandas version: 1.2.4\n",
      "einops version: NOT INSTALLED or UNKNOWN VERSION.\n",
      "\n",
      "For details about installing the optional dependencies, please visit:\n",
      "    https://docs.monai.io/en/latest/installation.html#installing-the-recommended-dependencies\n",
      "\n"
     ]
    }
   ],
   "source": [
    "from monai.utils import set_determinism\n",
    "from monai.transforms import (\n",
    "    AsDiscrete,\n",
    "    AddChanneld,\n",
    "    Compose,\n",
    "    CropForegroundd,\n",
    "    LoadImaged,\n",
    "    Orientationd,\n",
    "    RandCropByPosNegLabeld,\n",
    "    ScaleIntensityRanged,\n",
    "    Spacingd,\n",
    "    ToTensord,\n",
    ")\n",
    "from monai.networks.nets import DenseNet\n",
    "from monai.networks.nets import DenseNet121 # bei dim2 mit Pretrain\n",
    "from monai.networks.nets import SEResNet50\n",
    "\n",
    "from monai.networks.layers import Norm\n",
    "from monai.metrics import compute_meandice\n",
    "from monai.losses import DiceLoss\n",
    "from monai.inferers import sliding_window_inference\n",
    "from monai.data import Dataset, list_data_collate\n",
    "from monai.config import print_config\n",
    "from monai.apps import download_and_extract\n",
    "import torch\n",
    "import pytorch_lightning\n",
    "from pytorch_lightning.callbacks.model_checkpoint \\\n",
    "    import ModelCheckpoint\n",
    "import matplotlib.pyplot as plt\n",
    "import tempfile\n",
    "import shutil\n",
    "import os\n",
    "import glob\n",
    "import numpy as np\n",
    "import matplotlib.pyplot as plt\n",
    "\n",
    "# GRAD CAM Versuch 1\n",
    "from torchcam.cams import SmoothGradCAMpp\n",
    "from torchvision.transforms.functional import normalize, resize, to_pil_image\n",
    "\n",
    "# GRAD CAM Versuch 2\n",
    "from medcam import medcam\n",
    "from IPython.display import Image\n",
    "\n",
    "# Output Metriken\n",
    "from sklearn.metrics import confusion_matrix, precision_score, classification_report, ConfusionMatrixDisplay, precision_recall_curve, PrecisionRecallDisplay, roc_curve, auc, plot_roc_curve, RocCurveDisplay\n",
    "from sklearn import preprocessing\n",
    "\n",
    "from torchsummary import summary # Größe des Netzes anzeigen\n",
    "\n",
    "from PT_Dataset import TorchDataset # eigenes Python File (PT_Dataset.py) zum Daten laden \n",
    "# ACHTUNG: Anpaassen ob schon unsqueez(0) und .float schon vor dem Speichern der Daten gemacht wurde oder nicht \n",
    "\n",
    "# ResNet Model\n",
    "import swav_resnet as resnet_models\n",
    "\n",
    "from logging import getLogger\n",
    "logger = getLogger()\n",
    "\n",
    "# Config von monai (welche Version)\n",
    "print_config()"
   ]
  },
  {
   "cell_type": "code",
   "execution_count": 7,
   "id": "dbcb9e80-9a0e-4a83-9923-1f1ffd7df907",
   "metadata": {},
   "outputs": [
    {
     "name": "stdout",
     "output_type": "stream",
     "text": [
      "/home/wolfda/Clinic_Data/Challenge/CT_PreTrain/LIDC/manifest-1600709154662/LIDC-PreTrain\n",
      "Daten: /home/wolfda/Clinic_Data/Data/Covid_Concern/Klassen/2D_cut_mean_3/train Model: B | Versuch: 0 | Epochen: 50 | Learning Rate: 0.001 | Dropout Prob: 0.5 | Train Bs: 10 | loss: CrossEntropyLoss() | Optimizer: Adam\n"
     ]
    }
   ],
   "source": [
    "# FESTLEGEN\n",
    "\n",
    "# Ordner wo die Ergebnisse gespeichert werden\n",
    "root_dir = \"/home/wolfda/Clinic_Data/Challenge/CT_PreTrain/LIDC/manifest-1600709154662/LIDC-PreTrain\"\n",
    "print(root_dir)\n",
    "\n",
    "# Daten Train / Val  [für beide: .pt file, \"vol\": Bild, \"class\": lable]\n",
    "train = \"/home/wolfda/Clinic_Data/Data/Covid_Concern/Klassen/2D_cut_mean_3/train\"\n",
    "val = \"/home/wolfda/Clinic_Data/Data/Covid_Concern/Klassen/2D_cut_mean_3/val\"\n",
    "test = \"/home/wolfda/Clinic_Data/Data/Covid_Concern/Klassen/2D_cut_mean_3/val\"\n",
    "# TORCH DATASET: unsqueeze(0) nein (Wegen Conv Layer) | .float() ja (Wegen Daten)\n",
    "\n",
    "# Vortrainierte Gewichte des resNet models\n",
    "pretrained_weights = \"/home/wolfda/Clinic_Data/Challenge/CT_PreTrain/LIDC/manifest-1600709154662/LIDC-PreTrain/save/model_A/versuch_0/epoch=2-step=60000.ckpt\" #/path/to/checkpoints/swav_800ep_pretrain.pth.tar\n",
    "\n",
    "# Festlegen\n",
    "Model = \"B\"  # NEUES MODEL: zählen A,B;C,..\n",
    "Versuch = \"0\" # NEUER VERSUCH: nummerieren 0,1,2,3 (alle versuche eines Models erschinen zusammen um tb)\n",
    "# Speicherort Model: save - model*[A,B,C,..] - Versuch*[0,1,2,...]_epoch* - last.ckpt || TB logs: save - model*[A,B,C,..] - logs - default - version*[0,1,2,...]\n",
    "Epochen = 50 # Wieviele Epochen \n",
    "lr = 1e-3 # Learning rate\n",
    "db = 0.5 # Dropout prob[0-1]\n",
    "train_bs = 10 # Batch Size Training\n",
    "# Loss gewichten (Bei welcher klasse sollen fehler stärker bestraft werden)\n",
    "loss = torch.nn.CrossEntropyLoss() # NLLLoss() falls Netz schon softmax macht | CrossEntropyLoss() falls Netz noch keine Softmax macht  || in (): weight=torch.FloatTensor([0.3,0.7])\n",
    "optim = \"Adam\" # Optimizer \n",
    "\n",
    "print(\"Daten:\", train, \"Model:\", Model, \"| Versuch:\", Versuch, \"| Epochen:\", Epochen, \"| Learning Rate:\", lr, \"| Dropout Prob:\", db, \"| Train Bs:\", train_bs,\"| loss:\", loss, \"| Optimizer:\", optim)\n",
    "\n",
    "info={\"Path\": root_dir, \"Train\": train, \"Daten\": train, \"Model\": Model, \"Versuch\": Versuch, \"Epochen\": Epochen, \"Learning Rate\": lr, \"Dropout Prob\": db, \"Train Bs\": train_bs, \"loss\": loss, \"Optimizer\": optim}"
   ]
  },
  {
   "cell_type": "code",
   "execution_count": 8,
   "id": "b4d66054-ccc3-4cda-aab3-32ab85775822",
   "metadata": {},
   "outputs": [],
   "source": [
    "# Modell Laden -----------------------------------------------------------------------------\n",
    "res_model = resnet_models.__dict__[\"resnet50\"](output_dim=4) # wurde oben importiert \n",
    "# convert batch norm layers\n",
    "#res_model = torch.nn.SyncBatchNorm.convert_sync_batchnorm(res_model)\n",
    "\n",
    "\n",
    "# Vortrainierte Gewichte Laden -----------------------------------------------------------------------------\n",
    "state_dict = torch.load(pretrained_weights) # wurde heruntergeladen\n",
    "if \"state_dict\" in state_dict:\n",
    "    state_dict = state_dict[\"state_dict\"]\n",
    "# remove prefixe \"module.\"\n",
    "state_dict = {k.replace(\"module.\", \"\"): v for k, v in state_dict.items()}\n",
    "for k, v in res_model.state_dict().items():\n",
    "    if k not in list(state_dict):\n",
    "        logger.info('key \"{}\" could not be found in provided state dict'.format(k))\n",
    "    elif state_dict[k].shape != v.shape:\n",
    "        logger.info('key \"{}\" is of different shape in model and provided state dict'.format(k))\n",
    "        state_dict[k] = v\n",
    "msg = res_model.load_state_dict(state_dict, strict=False)\n",
    "logger.info(\"Load pretrained model with msg: {}\".format(msg))\n",
    "\n"
   ]
  },
  {
   "cell_type": "code",
   "execution_count": 9,
   "id": "aeb5eca8-4962-4731-885c-b2eb107f78b0",
   "metadata": {},
   "outputs": [],
   "source": [
    "class Net(pytorch_lightning.LightningModule): # Name: Net **1\n",
    "    \n",
    "    # Netz + Loss definieren\n",
    "    def __init__(self):\n",
    "        super().__init__()\n",
    "        \n",
    "        self.model = res_model\n",
    "        \n",
    "        self.loss_function = loss \n",
    "\n",
    "    def forward(self, x):\n",
    "        \n",
    "        #print(\"Conv In\", x.shape)\n",
    "        x = self.model(x)\n",
    "        #print(\"Conv Out\", x.shape)\n",
    "\n",
    "        return x\n",
    "\n",
    "    def prepare_data(self):\n",
    "        \n",
    "        set_determinism(seed=0)\n",
    "\n",
    "        # Erstellt Dataset (Pfad in dem alle Bilder + lable liegen ([vol, class]) übergeben)\n",
    "        self.train_ds = TorchDataset(train, augmentations=False) # (PT_Dataset.py)\n",
    "        self.val_ds = TorchDataset(val, augmentations=False)\n",
    "        self.test_ds = TorchDataset(test, augmentations=False)\n",
    "        print(\"Train Data Size\", len(self.train_ds))\n",
    "        \n",
    "    def train_dataloader(self):\n",
    "        train_loader = torch.utils.data.DataLoader(           # ruft in PT_Dataset.py die __getitem Methode auf \n",
    "            self.train_ds, batch_size=train_bs, shuffle=True,\n",
    "            num_workers=10, collate_fn=list_data_collate,\n",
    "        )\n",
    "        print(\"Train Data Loader | Bs:\", train_bs, \"| len\",  len(train_loader))\n",
    "        return train_loader\n",
    "\n",
    "    def val_dataloader(self):\n",
    "        val_loader = torch.utils.data.DataLoader(\n",
    "            self.val_ds, batch_size=1, num_workers=10)\n",
    "        print(\"Val Data Loader\", len(val_loader))\n",
    "        return val_loader\n",
    "    \n",
    "    def test_dataloader(self): # self.val_ds wenn man wirklich testen will\n",
    "        test_loader = torch.utils.data.DataLoader(\n",
    "           self.test_ds, batch_size=1, num_workers=10)\n",
    "        return test_loader\n",
    "\n",
    "    def configure_optimizers(self):\n",
    "        if optim == \"Adam\":\n",
    "            optimizer = torch.optim.Adam(self.parameters(), lr)\n",
    "        return optimizer\n",
    "\n",
    "    def training_step(self, batch, batch_idx): # batch: von Data Loader\n",
    "        images, labels, name = batch # [bs, 1, 48, 256, 256], [bs] \n",
    "        #print(\"Training\", images.shape, labels.shape)\n",
    "        \n",
    "        output = self.forward(images) # [bs, 4] (bs, classes = 4)\n",
    "        #print(\"Train Outputs\", output)\n",
    "        #print(\"Train Labels\", labels)\n",
    "        \n",
    "        loss = self.loss_function(output, labels) # cross entropy Loss: output=[bs, 4] für 4 klassen, lable=[bs] je die richtige Klasse (0,1,2,3)\n",
    "        tensorboard_logs = {\"train_loss\": loss.item()}\n",
    "\n",
    "        return {\"loss\": loss, \"log\": tensorboard_logs}\n",
    "    \n",
    "    def training_epoch_end(self, outputs): # outputs = Elemente im train Dataset  x {\"loss\": loss, \"log\": tensorboard_logs}\n",
    "        #print(\"All Train Losses\", outputs)\n",
    "        train_loss, num_items = 0, 0\n",
    "        \n",
    "        for output in outputs: # Durchläuft alle elemete im train Dataset \n",
    "            #print(\"Nummer:\", num_items)\n",
    "            \n",
    "            #print(\"Train Loss\", output[\"loss\"].sum().item())\n",
    "            train_loss += output[\"loss\"].sum().item() # Alle Losse aufaddieren \n",
    "            num_items += 1\n",
    "            \n",
    "        mean_train_loss = torch.tensor(train_loss / num_items) # mittlerer Loss\n",
    "        #print(\"Train Loss Mean\", mean_train_loss)\n",
    "        \n",
    "        tensorboard_logs = {\n",
    "            \"training_loss\": mean_train_loss,\n",
    "        }\n",
    "        \n",
    "        return {\"log\": tensorboard_logs}\n",
    "    \n",
    "\n",
    "    def validation_step(self, batch, batch_idx): # batch: von Data Loader\n",
    "        images, labels, name = batch # [1, 1, 48, 256, 256], [1] \n",
    "        #print(\"Val\", images.shape, labels.shape)\n",
    "        \n",
    "        #images = torch.rand(1,20,512,512).cuda()\n",
    "        \n",
    "        outputs = self.forward(images) # [4]\n",
    "        #print(\"Val Outputs\", outputs)\n",
    "        #print(\"Val Labels\", labels)\n",
    "        \n",
    "        loss = self.loss_function(outputs, labels)\n",
    "        \n",
    "        return {\"val_loss\": loss}\n",
    "\n",
    "    def validation_epoch_end(self, outputs): # outputs = Elemente im Val Dataset x {\"val_loss\": loss}\n",
    "        #print(\"All Val Losses\", outputs)\n",
    "        val_loss, num_items = 0, 0\n",
    "        \n",
    "        for output in outputs: # Durchläuft alle elemete im Val Dataset \n",
    "            #print(\"Nummer:\", num_items)\n",
    "            \n",
    "            #print(\"Val Loss\", output[\"val_loss\"].sum().item())\n",
    "            val_loss += output[\"val_loss\"].sum().item() # Alles Losse aufaddieren \n",
    "            num_items += 1\n",
    "            \n",
    "        mean_val_loss = torch.tensor(val_loss / num_items) # mittlerer Loss\n",
    "        #print(\"Val Loss Mean\", mean_val_loss)\n",
    "        \n",
    "        tensorboard_logs = {\n",
    "            \"val_loss\": mean_val_loss,\n",
    "        }\n",
    "        \n",
    "        return {\"log\": tensorboard_logs}\n",
    "    \n",
    "    def test_step(self, batch, batch_idx): # batch: von Data Loader\n",
    "        images, labels, name = batch # [1, 1, 48, 256, 256], [1] \n",
    "        #print(\"Test\", images.shape, labels.shape)\n",
    "        \n",
    "        outputs = self.forward(images) # [4]\n",
    "        outputs = torch.nn.functional.softmax(outputs)\n",
    "        #print(\"Test Outputs\", outputs)\n",
    "        #print(\"Test Labels\", labels)\n",
    "        \n",
    "        klasse = torch.argmax(outputs, dim=1)\n",
    "        \n",
    "        loss = self.loss_function(outputs, labels)\n",
    "        #print(\"Test Loss\", loss.item())\n",
    "        \n",
    "        return {\"test_loss\": loss, \"output\": outputs, \"lable\": labels, \"klasse\": klasse, \"Name\": name} \n",
    "    \n",
    "    def test_epoch_end(self, outputs): # outputs = Elemente im Val Dataset  x {\"test_loss\": loss, \"output\": outputs, \"lable\": labels, \"klasse\": klasse, \"Name\": name}\n",
    "        #print(\"All Test Losses\", outputs)\n",
    "        \n",
    "        test_loss, true, false, num_items = 0, 0, 0, 0\n",
    "        \n",
    "        output_list = np.array([])\n",
    "        lable_list = np.array([])\n",
    "        output_prob_1 = np.array([])\n",
    "        output_prob_0 = np.array([])\n",
    "        output_prob = np.array([])\n",
    "        \n",
    "        i = 0\n",
    "        for output in outputs: # Durchläuft alle elemete im Val Dataset \n",
    "            #print(\"Nummer:\", num_items)\n",
    "            \n",
    "            #print(\"Test Loss\", output[\"test_loss\"])\n",
    "            test_loss += output[\"test_loss\"] # alles Losse aufadieren\n",
    "            num_items += 1\n",
    "            \n",
    "            output_hold = output[\"klasse\"].cpu().detach()\n",
    "            lable_hold = output[\"lable\"].cpu().detach()\n",
    "            output_prob_hold_0 = output[\"output\"][...,0].cpu().detach()\n",
    "            output_prob_hold_1 = output[\"output\"][...,1].cpu().detach()\n",
    "            output_prob_hold = output[\"output\"].cpu().detach()\n",
    "            \n",
    "            output_list = np.append(output_list, output_hold) # Klasse 0/1\n",
    "            lable_list = np.append(lable_list, lable_hold) # Lable 0/1\n",
    "            output_prob_0 = np.append(output_prob_0, abs(output_prob_hold_0)) # Tatsächlicher Output (Probability betwwen 0 and 1) Klasse 0\n",
    "            output_prob_1 = np.append(output_prob_1, abs(output_prob_hold_1)) # Tatsächlicher Output (Probability betwwen 0 and 1) Klasse 1\n",
    "            output_prob = np.append(output_prob,torch.max(abs(output_prob_hold))) # Den größeren Probability Wert der beiden Klassen nehmen \n",
    "            \n",
    "            #print(output[\"Name\"])\n",
    "            #print(\"Test Output\", output[\"klasse\"]) # One hot (hier nicht nötig: torch.nn.functional.one_hot(output[\"klasse\"], 2))\n",
    "            #print(\"Test Lable\", output[\"lable\"])\n",
    "            \n",
    "            if output[\"klasse\"] == output[\"lable\"]: # wenn Index mit höchster Wahrschl. == richtige Klasse -> richtig klassifiziert\n",
    "                true += 1\n",
    "            else:\n",
    "                false += 1\n",
    "            i+=1\n",
    "        \n",
    "        # __________ DOKU ____________________________\n",
    "        \n",
    "        # Output Networtk, Lables\n",
    "\n",
    "        #print(\"Prob Class 0\",\"\\n\", output_prob_0)\n",
    "        print(\"Prob Class 1\",\"\\n\",output_prob_1)\n",
    "        #print(\"Prediction\",\"\\n\",output_list)\n",
    "        print(\"Lable\", \"\\n\", lable_list)\n",
    "        \n",
    "        # Anzahl richtig klassifiezert\n",
    "        print(\"\\n\" + \"True\", true) \n",
    "        print(\"False\", false)\n",
    "        \n",
    "        # Accurancy\n",
    "        acc = torch.tensor(true / num_items) \n",
    "        print(\"\\n\" + \"acc\", acc)\n",
    "        \n",
    "        # Mean Loss\n",
    "        mean_test_loss = torch.tensor(test_loss / num_items) # mittlerer Loss\n",
    "        #print(\"\\n\" + \"mean_loss\", mean_test_loss)\n",
    "        \n",
    "        # Confusion Matrix (output_list, lable_list: torch tensors mit den ausgaben des Netztes und den Lablen für alle Patienten in Testset)\n",
    "        #print(\"\\n\" + \"Confution Matrix\")\n",
    "        cm = confusion_matrix(lable_list, output_list)\n",
    "        #print(cm)\n",
    "        \n",
    "        # Precision\n",
    "        #print(\"\\n\" + \"Precision Score Classes: \")\n",
    "        # print(list(preprocessing.LabelEncoder.classes_))\n",
    "        score01 = precision_score(lable_list, output_list, average=None)\n",
    "        print(score01)\n",
    "        \n",
    "        # Report: Precision, Recall, F-Score\n",
    "        print(\"\\n\" +\"Classification Report: \")\n",
    "        score01 = classification_report(lable_list, output_list)\n",
    "        print(score01)\n",
    "        \n",
    "        # Display Confusion Matric nicer\n",
    "        disp = ConfusionMatrixDisplay(confusion_matrix=cm,)\n",
    "        disp.plot(cmap=\"Blues\")\n",
    "        \n",
    "        # Sensitivity = true positive rate = TruePositive / (TruePositive + FalseNegative); Specificity = TrueNegative / (FalsePositive + TrueNegative)\n",
    "        # G-Mean = sqrt(Sensitivity * Specificity), Geometric Mean will seek a balance between the sensitivity and the specificity\n",
    "        # fpr(=false positive rate), tpr(=true positive rate =Sensitivity) , thresholds (differtent thresholds [normal: <0.5=0; >0.5=1] jetzt 0.1 0.2 0.3 ... bei denen die fpr und tps gemessen wird)\n",
    "        \n",
    "        # fpr(=false positive rate), tpr(=true positive rate =Sensitivity) , thresholds (differtent thresholds [normal: <0.5=0; >0.5=1] jetzt 0.1 0.2 0.3 ... bei denen die fpr und tps gemessen wird)\n",
    "        fpr, tpr, thresholds = roc_curve(lable_list, output_prob_1, sample_weight=None) # Wahrscheinlichkeiten der Klasse die seltener vorkommt\n",
    "        print(\"fpr\", fpr)\n",
    "        print(\"tpr\", tpr)\n",
    "        roc_auc = auc(fpr, tpr)\n",
    "        print(\"AUC\")\n",
    "        print(roc_auc)\n",
    "        \n",
    "        # Perfekt threshold to take, instead of threshold 0.5\n",
    "        gmeans = np.sqrt(tpr * (1-fpr))\n",
    "        ix = np.argmax(gmeans)\n",
    "        print(\"Threshold\", thresholds[ix], \"tpr Value\", gmeans[ix])\n",
    "        \n",
    "        display = RocCurveDisplay(fpr=fpr, tpr=tpr, roc_auc=roc_auc, estimator_name='')\n",
    "        #display.plot()\n",
    "        \n",
    "        f, ax = plt.subplots(figsize=(15, 9))\n",
    "        plt.plot([0,1],[0,1], 'k--')\n",
    "        plt.plot(fpr, tpr, label= \"DaniNet\")\n",
    "        plt.legend()\n",
    "        plt.xlabel(\"FPR\")\n",
    "        plt.ylabel(\"TPR\")\n",
    "        plt.title('Receiver Operating Characteristic')\n",
    "        plt.show()\n",
    "        \n",
    "        tensorboard_logs = {\n",
    "            \"test_loss\": mean_test_loss,\n",
    "            \"test_acc\": acc\n",
    "        }\n",
    "        \n",
    "        return {\"log\": tensorboard_logs}"
   ]
  },
  {
   "cell_type": "code",
   "execution_count": 10,
   "id": "75082d73-2a90-4846-bc1f-226ea34e0419",
   "metadata": {},
   "outputs": [
    {
     "name": "stderr",
     "output_type": "stream",
     "text": [
      "GPU available: True, used: True\n",
      "TPU available: False, using: 0 TPU cores\n",
      "CUDA_VISIBLE_DEVICES: [0]\n",
      "/home/wolfda/anaconda3/envs/Monai/lib/python3.9/site-packages/pytorch_lightning/utilities/distributed.py:37: UserWarning: Could not log computational graph since the `model.example_input_array` attribute is not set or `input_array` was not given\n",
      "  warnings.warn(*args, **kwargs)\n",
      "\n",
      "  | Name          | Type             | Params\n",
      "---------------------------------------------------\n",
      "0 | model         | ResNet           | 23 M  \n",
      "1 | loss_function | CrossEntropyLoss | 0     \n"
     ]
    },
    {
     "name": "stdout",
     "output_type": "stream",
     "text": [
      "Train Data Size 3969\n",
      "Val Data Loader 1483\n"
     ]
    },
    {
     "data": {
      "application/vnd.jupyter.widget-view+json": {
       "model_id": "",
       "version_major": 2,
       "version_minor": 0
      },
      "text/plain": [
       "Validation sanity check: 0it [00:00, ?it/s]"
      ]
     },
     "metadata": {},
     "output_type": "display_data"
    },
    {
     "name": "stdout",
     "output_type": "stream",
     "text": [
      "Train Data Loader | Bs: 10 | len 397\n",
      "Val Data Loader 1483\n"
     ]
    },
    {
     "name": "stderr",
     "output_type": "stream",
     "text": [
      "/home/wolfda/anaconda3/envs/Monai/lib/python3.9/site-packages/torch/nn/functional.py:718: UserWarning: Named tensors and all their associated APIs are an experimental feature and subject to change. Please do not use them for anything important until they are released as stable. (Triggered internally at  /opt/conda/conda-bld/pytorch_1623448255797/work/c10/core/TensorImpl.h:1156.)\n",
      "  return torch.max_pool2d(input, kernel_size, stride, padding, dilation, ceil_mode)\n"
     ]
    },
    {
     "data": {
      "application/vnd.jupyter.widget-view+json": {
       "model_id": "6c0cc688c3044c2bb582d92916408dfa",
       "version_major": 2,
       "version_minor": 0
      },
      "text/plain": [
       "Training: 0it [00:00, ?it/s]"
      ]
     },
     "metadata": {},
     "output_type": "display_data"
    },
    {
     "data": {
      "application/vnd.jupyter.widget-view+json": {
       "model_id": "",
       "version_major": 2,
       "version_minor": 0
      },
      "text/plain": [
       "Validating: 0it [00:00, ?it/s]"
      ]
     },
     "metadata": {},
     "output_type": "display_data"
    },
    {
     "data": {
      "application/vnd.jupyter.widget-view+json": {
       "model_id": "",
       "version_major": 2,
       "version_minor": 0
      },
      "text/plain": [
       "Validating: 0it [00:00, ?it/s]"
      ]
     },
     "metadata": {},
     "output_type": "display_data"
    },
    {
     "data": {
      "application/vnd.jupyter.widget-view+json": {
       "model_id": "",
       "version_major": 2,
       "version_minor": 0
      },
      "text/plain": [
       "Validating: 0it [00:00, ?it/s]"
      ]
     },
     "metadata": {},
     "output_type": "display_data"
    },
    {
     "data": {
      "application/vnd.jupyter.widget-view+json": {
       "model_id": "",
       "version_major": 2,
       "version_minor": 0
      },
      "text/plain": [
       "Validating: 0it [00:00, ?it/s]"
      ]
     },
     "metadata": {},
     "output_type": "display_data"
    },
    {
     "data": {
      "application/vnd.jupyter.widget-view+json": {
       "model_id": "07b630ae86754d5d9f567f20dd5aa867",
       "version_major": 2,
       "version_minor": 0
      },
      "text/plain": [
       "Validating: 0it [00:00, ?it/s]"
      ]
     },
     "metadata": {},
     "output_type": "display_data"
    },
    {
     "name": "stderr",
     "output_type": "stream",
     "text": [
      "/home/wolfda/anaconda3/envs/Monai/lib/python3.9/site-packages/pytorch_lightning/utilities/distributed.py:37: UserWarning: Detected KeyboardInterrupt, attempting graceful shutdown...\n",
      "  warnings.warn(*args, **kwargs)\n",
      "Saving latest checkpoint..\n"
     ]
    },
    {
     "name": "stdout",
     "output_type": "stream",
     "text": [
      "Train Data Size 3969\n"
     ]
    },
    {
     "data": {
      "application/vnd.jupyter.widget-view+json": {
       "model_id": "cd7ce484fa1d48faae190ebf5b69ec40",
       "version_major": 2,
       "version_minor": 0
      },
      "text/plain": [
       "Testing: 0it [00:00, ?it/s]"
      ]
     },
     "metadata": {},
     "output_type": "display_data"
    },
    {
     "name": "stderr",
     "output_type": "stream",
     "text": [
      "/tmp/ipykernel_340712/2847804450.py:126: UserWarning: Implicit dimension choice for softmax has been deprecated. Change the call to include dim=X as an argument.\n",
      "  outputs = torch.nn.functional.softmax(outputs)\n"
     ]
    },
    {
     "name": "stdout",
     "output_type": "stream",
     "text": [
      "Prob Class 1 \n",
      " [1.10556874e-04 5.22638917e-01 4.19241376e-03 ... 1.59685598e-07\n",
      " 9.17583823e-01 4.94071275e-01]\n",
      "Lable \n",
      " [2. 2. 1. ... 3. 0. 1.]\n",
      "\n",
      "True 429\n",
      "False 1054\n",
      "\n",
      "acc tensor(0.2893)\n",
      "[0.31111111 0.06103286 0.52713178 0.33554377]\n",
      "\n",
      "Classification Report: \n",
      "              precision    recall  f1-score   support\n",
      "\n",
      "         0.0       0.31      0.03      0.05       548\n",
      "         1.0       0.06      0.11      0.08       233\n",
      "         2.0       0.53      0.71      0.61       191\n",
      "         3.0       0.34      0.50      0.40       511\n",
      "\n",
      "    accuracy                           0.29      1483\n",
      "   macro avg       0.31      0.34      0.28      1483\n",
      "weighted avg       0.31      0.29      0.25      1483\n",
      "\n"
     ]
    },
    {
     "name": "stderr",
     "output_type": "stream",
     "text": [
      "/tmp/ipykernel_340712/2847804450.py:196: UserWarning: To copy construct from a tensor, it is recommended to use sourceTensor.clone().detach() or sourceTensor.clone().detach().requires_grad_(True), rather than torch.tensor(sourceTensor).\n",
      "  mean_test_loss = torch.tensor(test_loss / num_items) # mittlerer Loss\n"
     ]
    },
    {
     "ename": "ValueError",
     "evalue": "multiclass format is not supported",
     "output_type": "error",
     "traceback": [
      "\u001B[0;31m---------------------------------------------------------------------------\u001B[0m",
      "\u001B[0;31mValueError\u001B[0m                                Traceback (most recent call last)",
      "\u001B[0;32m/tmp/ipykernel_340712/48321143.py\u001B[0m in \u001B[0;36m<module>\u001B[0;34m\u001B[0m\n\u001B[1;32m     36\u001B[0m \u001B[0;34m\u001B[0m\u001B[0m\n\u001B[1;32m     37\u001B[0m \u001B[0;31m# test\u001B[0m\u001B[0;34m\u001B[0m\u001B[0;34m\u001B[0m\u001B[0;34m\u001B[0m\u001B[0m\n\u001B[0;32m---> 38\u001B[0;31m \u001B[0mtrainer\u001B[0m\u001B[0;34m.\u001B[0m\u001B[0mtest\u001B[0m\u001B[0;34m(\u001B[0m\u001B[0mnet\u001B[0m\u001B[0;34m)\u001B[0m\u001B[0;34m\u001B[0m\u001B[0;34m\u001B[0m\u001B[0m\n\u001B[0m",
      "\u001B[0;32m~/anaconda3/envs/Monai/lib/python3.9/site-packages/pytorch_lightning/trainer/states.py\u001B[0m in \u001B[0;36mwrapped_fn\u001B[0;34m(self, *args, **kwargs)\u001B[0m\n\u001B[1;32m     46\u001B[0m             \u001B[0;32mif\u001B[0m \u001B[0mentering\u001B[0m \u001B[0;32mis\u001B[0m \u001B[0;32mnot\u001B[0m \u001B[0;32mNone\u001B[0m\u001B[0;34m:\u001B[0m\u001B[0;34m\u001B[0m\u001B[0;34m\u001B[0m\u001B[0m\n\u001B[1;32m     47\u001B[0m                 \u001B[0mself\u001B[0m\u001B[0;34m.\u001B[0m\u001B[0mstate\u001B[0m \u001B[0;34m=\u001B[0m \u001B[0mentering\u001B[0m\u001B[0;34m\u001B[0m\u001B[0;34m\u001B[0m\u001B[0m\n\u001B[0;32m---> 48\u001B[0;31m             \u001B[0mresult\u001B[0m \u001B[0;34m=\u001B[0m \u001B[0mfn\u001B[0m\u001B[0;34m(\u001B[0m\u001B[0mself\u001B[0m\u001B[0;34m,\u001B[0m \u001B[0;34m*\u001B[0m\u001B[0margs\u001B[0m\u001B[0;34m,\u001B[0m \u001B[0;34m**\u001B[0m\u001B[0mkwargs\u001B[0m\u001B[0;34m)\u001B[0m\u001B[0;34m\u001B[0m\u001B[0;34m\u001B[0m\u001B[0m\n\u001B[0m\u001B[1;32m     49\u001B[0m \u001B[0;34m\u001B[0m\u001B[0m\n\u001B[1;32m     50\u001B[0m             \u001B[0;31m# The INTERRUPTED state can be set inside the run function. To indicate that run was interrupted\u001B[0m\u001B[0;34m\u001B[0m\u001B[0;34m\u001B[0m\u001B[0;34m\u001B[0m\u001B[0m\n",
      "\u001B[0;32m~/anaconda3/envs/Monai/lib/python3.9/site-packages/pytorch_lightning/trainer/trainer.py\u001B[0m in \u001B[0;36mtest\u001B[0;34m(self, model, test_dataloaders, ckpt_path, verbose, datamodule)\u001B[0m\n\u001B[1;32m   1353\u001B[0m \u001B[0;34m\u001B[0m\u001B[0m\n\u001B[1;32m   1354\u001B[0m         \u001B[0;32mif\u001B[0m \u001B[0mmodel\u001B[0m \u001B[0;32mis\u001B[0m \u001B[0;32mnot\u001B[0m \u001B[0;32mNone\u001B[0m\u001B[0;34m:\u001B[0m\u001B[0;34m\u001B[0m\u001B[0;34m\u001B[0m\u001B[0m\n\u001B[0;32m-> 1355\u001B[0;31m             \u001B[0mresults\u001B[0m \u001B[0;34m=\u001B[0m \u001B[0mself\u001B[0m\u001B[0;34m.\u001B[0m\u001B[0m__test_given_model\u001B[0m\u001B[0;34m(\u001B[0m\u001B[0mmodel\u001B[0m\u001B[0;34m,\u001B[0m \u001B[0mtest_dataloaders\u001B[0m\u001B[0;34m)\u001B[0m\u001B[0;34m\u001B[0m\u001B[0;34m\u001B[0m\u001B[0m\n\u001B[0m\u001B[1;32m   1356\u001B[0m         \u001B[0;32melse\u001B[0m\u001B[0;34m:\u001B[0m\u001B[0;34m\u001B[0m\u001B[0;34m\u001B[0m\u001B[0m\n\u001B[1;32m   1357\u001B[0m             \u001B[0mresults\u001B[0m \u001B[0;34m=\u001B[0m \u001B[0mself\u001B[0m\u001B[0;34m.\u001B[0m\u001B[0m__test_using_best_weights\u001B[0m\u001B[0;34m(\u001B[0m\u001B[0mckpt_path\u001B[0m\u001B[0;34m,\u001B[0m \u001B[0mtest_dataloaders\u001B[0m\u001B[0;34m)\u001B[0m\u001B[0;34m\u001B[0m\u001B[0;34m\u001B[0m\u001B[0m\n",
      "\u001B[0;32m~/anaconda3/envs/Monai/lib/python3.9/site-packages/pytorch_lightning/trainer/trainer.py\u001B[0m in \u001B[0;36m__test_given_model\u001B[0;34m(self, model, test_dataloaders)\u001B[0m\n\u001B[1;32m   1416\u001B[0m         \u001B[0mself\u001B[0m\u001B[0;34m.\u001B[0m\u001B[0mtesting\u001B[0m \u001B[0;34m=\u001B[0m \u001B[0;32mTrue\u001B[0m\u001B[0;34m\u001B[0m\u001B[0;34m\u001B[0m\u001B[0m\n\u001B[1;32m   1417\u001B[0m         \u001B[0mself\u001B[0m\u001B[0;34m.\u001B[0m\u001B[0mmodel\u001B[0m \u001B[0;34m=\u001B[0m \u001B[0mmodel\u001B[0m\u001B[0;34m\u001B[0m\u001B[0;34m\u001B[0m\u001B[0m\n\u001B[0;32m-> 1418\u001B[0;31m         \u001B[0mresults\u001B[0m \u001B[0;34m=\u001B[0m \u001B[0mself\u001B[0m\u001B[0;34m.\u001B[0m\u001B[0mfit\u001B[0m\u001B[0;34m(\u001B[0m\u001B[0mmodel\u001B[0m\u001B[0;34m)\u001B[0m\u001B[0;34m\u001B[0m\u001B[0;34m\u001B[0m\u001B[0m\n\u001B[0m\u001B[1;32m   1419\u001B[0m         \u001B[0mself\u001B[0m\u001B[0;34m.\u001B[0m\u001B[0mtesting\u001B[0m \u001B[0;34m=\u001B[0m \u001B[0;32mFalse\u001B[0m\u001B[0;34m\u001B[0m\u001B[0;34m\u001B[0m\u001B[0m\n\u001B[1;32m   1420\u001B[0m \u001B[0;34m\u001B[0m\u001B[0m\n",
      "\u001B[0;32m~/anaconda3/envs/Monai/lib/python3.9/site-packages/pytorch_lightning/trainer/states.py\u001B[0m in \u001B[0;36mwrapped_fn\u001B[0;34m(self, *args, **kwargs)\u001B[0m\n\u001B[1;32m     46\u001B[0m             \u001B[0;32mif\u001B[0m \u001B[0mentering\u001B[0m \u001B[0;32mis\u001B[0m \u001B[0;32mnot\u001B[0m \u001B[0;32mNone\u001B[0m\u001B[0;34m:\u001B[0m\u001B[0;34m\u001B[0m\u001B[0;34m\u001B[0m\u001B[0m\n\u001B[1;32m     47\u001B[0m                 \u001B[0mself\u001B[0m\u001B[0;34m.\u001B[0m\u001B[0mstate\u001B[0m \u001B[0;34m=\u001B[0m \u001B[0mentering\u001B[0m\u001B[0;34m\u001B[0m\u001B[0;34m\u001B[0m\u001B[0m\n\u001B[0;32m---> 48\u001B[0;31m             \u001B[0mresult\u001B[0m \u001B[0;34m=\u001B[0m \u001B[0mfn\u001B[0m\u001B[0;34m(\u001B[0m\u001B[0mself\u001B[0m\u001B[0;34m,\u001B[0m \u001B[0;34m*\u001B[0m\u001B[0margs\u001B[0m\u001B[0;34m,\u001B[0m \u001B[0;34m**\u001B[0m\u001B[0mkwargs\u001B[0m\u001B[0;34m)\u001B[0m\u001B[0;34m\u001B[0m\u001B[0;34m\u001B[0m\u001B[0m\n\u001B[0m\u001B[1;32m     49\u001B[0m \u001B[0;34m\u001B[0m\u001B[0m\n\u001B[1;32m     50\u001B[0m             \u001B[0;31m# The INTERRUPTED state can be set inside the run function. To indicate that run was interrupted\u001B[0m\u001B[0;34m\u001B[0m\u001B[0;34m\u001B[0m\u001B[0;34m\u001B[0m\u001B[0m\n",
      "\u001B[0;32m~/anaconda3/envs/Monai/lib/python3.9/site-packages/pytorch_lightning/trainer/trainer.py\u001B[0m in \u001B[0;36mfit\u001B[0;34m(self, model, train_dataloader, val_dataloaders, datamodule)\u001B[0m\n\u001B[1;32m   1071\u001B[0m             \u001B[0mself\u001B[0m\u001B[0;34m.\u001B[0m\u001B[0maccelerator_backend\u001B[0m \u001B[0;34m=\u001B[0m \u001B[0mGPUBackend\u001B[0m\u001B[0;34m(\u001B[0m\u001B[0mself\u001B[0m\u001B[0;34m)\u001B[0m\u001B[0;34m\u001B[0m\u001B[0;34m\u001B[0m\u001B[0m\n\u001B[1;32m   1072\u001B[0m             \u001B[0mmodel\u001B[0m \u001B[0;34m=\u001B[0m \u001B[0mself\u001B[0m\u001B[0;34m.\u001B[0m\u001B[0maccelerator_backend\u001B[0m\u001B[0;34m.\u001B[0m\u001B[0msetup\u001B[0m\u001B[0;34m(\u001B[0m\u001B[0mmodel\u001B[0m\u001B[0;34m)\u001B[0m\u001B[0;34m\u001B[0m\u001B[0;34m\u001B[0m\u001B[0m\n\u001B[0;32m-> 1073\u001B[0;31m             \u001B[0mresults\u001B[0m \u001B[0;34m=\u001B[0m \u001B[0mself\u001B[0m\u001B[0;34m.\u001B[0m\u001B[0maccelerator_backend\u001B[0m\u001B[0;34m.\u001B[0m\u001B[0mtrain\u001B[0m\u001B[0;34m(\u001B[0m\u001B[0mmodel\u001B[0m\u001B[0;34m)\u001B[0m\u001B[0;34m\u001B[0m\u001B[0;34m\u001B[0m\u001B[0m\n\u001B[0m\u001B[1;32m   1074\u001B[0m \u001B[0;34m\u001B[0m\u001B[0m\n\u001B[1;32m   1075\u001B[0m         \u001B[0;32melif\u001B[0m \u001B[0mself\u001B[0m\u001B[0;34m.\u001B[0m\u001B[0muse_tpu\u001B[0m\u001B[0;34m:\u001B[0m\u001B[0;34m\u001B[0m\u001B[0;34m\u001B[0m\u001B[0m\n",
      "\u001B[0;32m~/anaconda3/envs/Monai/lib/python3.9/site-packages/pytorch_lightning/accelerators/gpu_backend.py\u001B[0m in \u001B[0;36mtrain\u001B[0;34m(self, model)\u001B[0m\n\u001B[1;32m     49\u001B[0m \u001B[0;34m\u001B[0m\u001B[0m\n\u001B[1;32m     50\u001B[0m     \u001B[0;32mdef\u001B[0m \u001B[0mtrain\u001B[0m\u001B[0;34m(\u001B[0m\u001B[0mself\u001B[0m\u001B[0;34m,\u001B[0m \u001B[0mmodel\u001B[0m\u001B[0;34m)\u001B[0m\u001B[0;34m:\u001B[0m\u001B[0;34m\u001B[0m\u001B[0;34m\u001B[0m\u001B[0m\n\u001B[0;32m---> 51\u001B[0;31m         \u001B[0mresults\u001B[0m \u001B[0;34m=\u001B[0m \u001B[0mself\u001B[0m\u001B[0;34m.\u001B[0m\u001B[0mtrainer\u001B[0m\u001B[0;34m.\u001B[0m\u001B[0mrun_pretrain_routine\u001B[0m\u001B[0;34m(\u001B[0m\u001B[0mmodel\u001B[0m\u001B[0;34m)\u001B[0m\u001B[0;34m\u001B[0m\u001B[0;34m\u001B[0m\u001B[0m\n\u001B[0m\u001B[1;32m     52\u001B[0m         \u001B[0;32mreturn\u001B[0m \u001B[0mresults\u001B[0m\u001B[0;34m\u001B[0m\u001B[0;34m\u001B[0m\u001B[0m\n\u001B[1;32m     53\u001B[0m \u001B[0;34m\u001B[0m\u001B[0m\n",
      "\u001B[0;32m~/anaconda3/envs/Monai/lib/python3.9/site-packages/pytorch_lightning/trainer/trainer.py\u001B[0m in \u001B[0;36mrun_pretrain_routine\u001B[0;34m(self, model)\u001B[0m\n\u001B[1;32m   1207\u001B[0m             \u001B[0;31m# only load test dataloader for testing\u001B[0m\u001B[0;34m\u001B[0m\u001B[0;34m\u001B[0m\u001B[0;34m\u001B[0m\u001B[0m\n\u001B[1;32m   1208\u001B[0m             \u001B[0;31m# self.reset_test_dataloader(ref_model)\u001B[0m\u001B[0;34m\u001B[0m\u001B[0;34m\u001B[0m\u001B[0;34m\u001B[0m\u001B[0m\n\u001B[0;32m-> 1209\u001B[0;31m             \u001B[0meval_loop_results\u001B[0m\u001B[0;34m,\u001B[0m \u001B[0m_\u001B[0m \u001B[0;34m=\u001B[0m \u001B[0mself\u001B[0m\u001B[0;34m.\u001B[0m\u001B[0mrun_evaluation\u001B[0m\u001B[0;34m(\u001B[0m\u001B[0mtest_mode\u001B[0m\u001B[0;34m=\u001B[0m\u001B[0;32mTrue\u001B[0m\u001B[0;34m)\u001B[0m\u001B[0;34m\u001B[0m\u001B[0;34m\u001B[0m\u001B[0m\n\u001B[0m\u001B[1;32m   1210\u001B[0m \u001B[0;34m\u001B[0m\u001B[0m\n\u001B[1;32m   1211\u001B[0m             \u001B[0;32mif\u001B[0m \u001B[0mlen\u001B[0m\u001B[0;34m(\u001B[0m\u001B[0meval_loop_results\u001B[0m\u001B[0;34m)\u001B[0m \u001B[0;34m==\u001B[0m \u001B[0;36m0\u001B[0m\u001B[0;34m:\u001B[0m\u001B[0;34m\u001B[0m\u001B[0;34m\u001B[0m\u001B[0m\n",
      "\u001B[0;32m~/anaconda3/envs/Monai/lib/python3.9/site-packages/pytorch_lightning/trainer/evaluation_loop.py\u001B[0m in \u001B[0;36mrun_evaluation\u001B[0;34m(self, test_mode)\u001B[0m\n\u001B[1;32m    580\u001B[0m \u001B[0;34m\u001B[0m\u001B[0m\n\u001B[1;32m    581\u001B[0m         \u001B[0;31m# run evaluation (val_step + val_step_end + val_epoch_end)\u001B[0m\u001B[0;34m\u001B[0m\u001B[0;34m\u001B[0m\u001B[0;34m\u001B[0m\u001B[0m\n\u001B[0;32m--> 582\u001B[0;31m         \u001B[0meval_results\u001B[0m \u001B[0;34m=\u001B[0m \u001B[0mself\u001B[0m\u001B[0;34m.\u001B[0m\u001B[0m_evaluate\u001B[0m\u001B[0;34m(\u001B[0m\u001B[0mself\u001B[0m\u001B[0;34m.\u001B[0m\u001B[0mmodel\u001B[0m\u001B[0;34m,\u001B[0m \u001B[0mdataloaders\u001B[0m\u001B[0;34m,\u001B[0m \u001B[0mmax_batches\u001B[0m\u001B[0;34m,\u001B[0m \u001B[0mtest_mode\u001B[0m\u001B[0;34m)\u001B[0m\u001B[0;34m\u001B[0m\u001B[0;34m\u001B[0m\u001B[0m\n\u001B[0m\u001B[1;32m    583\u001B[0m \u001B[0;34m\u001B[0m\u001B[0m\n\u001B[1;32m    584\u001B[0m         \u001B[0;31m# log the final eval loop metrics\u001B[0m\u001B[0;34m\u001B[0m\u001B[0;34m\u001B[0m\u001B[0;34m\u001B[0m\u001B[0m\n",
      "\u001B[0;32m~/anaconda3/envs/Monai/lib/python3.9/site-packages/pytorch_lightning/trainer/evaluation_loop.py\u001B[0m in \u001B[0;36m_evaluate\u001B[0;34m(self, model, dataloaders, max_batches, test_mode)\u001B[0m\n\u001B[1;32m    394\u001B[0m         \u001B[0;31m# ---------------------\u001B[0m\u001B[0;34m\u001B[0m\u001B[0;34m\u001B[0m\u001B[0;34m\u001B[0m\u001B[0m\n\u001B[1;32m    395\u001B[0m         \u001B[0musing_eval_result\u001B[0m \u001B[0;34m=\u001B[0m \u001B[0mlen\u001B[0m\u001B[0;34m(\u001B[0m\u001B[0moutputs\u001B[0m\u001B[0;34m)\u001B[0m \u001B[0;34m>\u001B[0m \u001B[0;36m0\u001B[0m \u001B[0;32mand\u001B[0m \u001B[0mlen\u001B[0m\u001B[0;34m(\u001B[0m\u001B[0moutputs\u001B[0m\u001B[0;34m[\u001B[0m\u001B[0;36m0\u001B[0m\u001B[0;34m]\u001B[0m\u001B[0;34m)\u001B[0m \u001B[0;34m>\u001B[0m \u001B[0;36m0\u001B[0m \u001B[0;32mand\u001B[0m \u001B[0misinstance\u001B[0m\u001B[0;34m(\u001B[0m\u001B[0moutputs\u001B[0m\u001B[0;34m[\u001B[0m\u001B[0;36m0\u001B[0m\u001B[0;34m]\u001B[0m\u001B[0;34m[\u001B[0m\u001B[0;36m0\u001B[0m\u001B[0;34m]\u001B[0m\u001B[0;34m,\u001B[0m \u001B[0mEvalResult\u001B[0m\u001B[0;34m)\u001B[0m\u001B[0;34m\u001B[0m\u001B[0;34m\u001B[0m\u001B[0m\n\u001B[0;32m--> 396\u001B[0;31m         \u001B[0meval_results\u001B[0m \u001B[0;34m=\u001B[0m \u001B[0mself\u001B[0m\u001B[0;34m.\u001B[0m\u001B[0m__run_eval_epoch_end\u001B[0m\u001B[0;34m(\u001B[0m\u001B[0mtest_mode\u001B[0m\u001B[0;34m,\u001B[0m \u001B[0moutputs\u001B[0m\u001B[0;34m,\u001B[0m \u001B[0mdataloaders\u001B[0m\u001B[0;34m,\u001B[0m \u001B[0musing_eval_result\u001B[0m\u001B[0;34m)\u001B[0m\u001B[0;34m\u001B[0m\u001B[0;34m\u001B[0m\u001B[0m\n\u001B[0m\u001B[1;32m    397\u001B[0m \u001B[0;34m\u001B[0m\u001B[0m\n\u001B[1;32m    398\u001B[0m         \u001B[0;31m# log callback metrics\u001B[0m\u001B[0;34m\u001B[0m\u001B[0;34m\u001B[0m\u001B[0;34m\u001B[0m\u001B[0m\n",
      "\u001B[0;32m~/anaconda3/envs/Monai/lib/python3.9/site-packages/pytorch_lightning/trainer/evaluation_loop.py\u001B[0m in \u001B[0;36m__run_eval_epoch_end\u001B[0;34m(self, test_mode, outputs, dataloaders, using_eval_result)\u001B[0m\n\u001B[1;32m    467\u001B[0m                     \u001B[0meval_results\u001B[0m \u001B[0;34m=\u001B[0m \u001B[0mself\u001B[0m\u001B[0;34m.\u001B[0m\u001B[0m__gather_epoch_end_eval_results\u001B[0m\u001B[0;34m(\u001B[0m\u001B[0moutputs\u001B[0m\u001B[0;34m)\u001B[0m\u001B[0;34m\u001B[0m\u001B[0;34m\u001B[0m\u001B[0m\n\u001B[1;32m    468\u001B[0m \u001B[0;34m\u001B[0m\u001B[0m\n\u001B[0;32m--> 469\u001B[0;31m                 \u001B[0meval_results\u001B[0m \u001B[0;34m=\u001B[0m \u001B[0mmodel\u001B[0m\u001B[0;34m.\u001B[0m\u001B[0mtest_epoch_end\u001B[0m\u001B[0;34m(\u001B[0m\u001B[0meval_results\u001B[0m\u001B[0;34m)\u001B[0m\u001B[0;34m\u001B[0m\u001B[0;34m\u001B[0m\u001B[0m\n\u001B[0m\u001B[1;32m    470\u001B[0m                 \u001B[0muser_reduced\u001B[0m \u001B[0;34m=\u001B[0m \u001B[0;32mTrue\u001B[0m\u001B[0;34m\u001B[0m\u001B[0;34m\u001B[0m\u001B[0m\n\u001B[1;32m    471\u001B[0m \u001B[0;34m\u001B[0m\u001B[0m\n",
      "\u001B[0;32m/tmp/ipykernel_340712/2847804450.py\u001B[0m in \u001B[0;36mtest_epoch_end\u001B[0;34m(self, outputs)\u001B[0m\n\u001B[1;32m    222\u001B[0m \u001B[0;34m\u001B[0m\u001B[0m\n\u001B[1;32m    223\u001B[0m         \u001B[0;31m# fpr(=false positive rate), tpr(=true positive rate =Sensitivity) , thresholds (differtent thresholds [normal: <0.5=0; >0.5=1] jetzt 0.1 0.2 0.3 ... bei denen die fpr und tps gemessen wird)\u001B[0m\u001B[0;34m\u001B[0m\u001B[0;34m\u001B[0m\u001B[0;34m\u001B[0m\u001B[0m\n\u001B[0;32m--> 224\u001B[0;31m         \u001B[0mfpr\u001B[0m\u001B[0;34m,\u001B[0m \u001B[0mtpr\u001B[0m\u001B[0;34m,\u001B[0m \u001B[0mthresholds\u001B[0m \u001B[0;34m=\u001B[0m \u001B[0mroc_curve\u001B[0m\u001B[0;34m(\u001B[0m\u001B[0mlable_list\u001B[0m\u001B[0;34m,\u001B[0m \u001B[0moutput_prob_1\u001B[0m\u001B[0;34m,\u001B[0m \u001B[0msample_weight\u001B[0m\u001B[0;34m=\u001B[0m\u001B[0;32mNone\u001B[0m\u001B[0;34m)\u001B[0m \u001B[0;31m# Wahrscheinlichkeiten der Klasse die seltener vorkommt\u001B[0m\u001B[0;34m\u001B[0m\u001B[0;34m\u001B[0m\u001B[0m\n\u001B[0m\u001B[1;32m    225\u001B[0m         \u001B[0mprint\u001B[0m\u001B[0;34m(\u001B[0m\u001B[0;34m\"fpr\"\u001B[0m\u001B[0;34m,\u001B[0m \u001B[0mfpr\u001B[0m\u001B[0;34m)\u001B[0m\u001B[0;34m\u001B[0m\u001B[0;34m\u001B[0m\u001B[0m\n\u001B[1;32m    226\u001B[0m         \u001B[0mprint\u001B[0m\u001B[0;34m(\u001B[0m\u001B[0;34m\"tpr\"\u001B[0m\u001B[0;34m,\u001B[0m \u001B[0mtpr\u001B[0m\u001B[0;34m)\u001B[0m\u001B[0;34m\u001B[0m\u001B[0;34m\u001B[0m\u001B[0m\n",
      "\u001B[0;32m~/anaconda3/envs/Monai/lib/python3.9/site-packages/sklearn/utils/validation.py\u001B[0m in \u001B[0;36minner_f\u001B[0;34m(*args, **kwargs)\u001B[0m\n\u001B[1;32m     61\u001B[0m             \u001B[0mextra_args\u001B[0m \u001B[0;34m=\u001B[0m \u001B[0mlen\u001B[0m\u001B[0;34m(\u001B[0m\u001B[0margs\u001B[0m\u001B[0;34m)\u001B[0m \u001B[0;34m-\u001B[0m \u001B[0mlen\u001B[0m\u001B[0;34m(\u001B[0m\u001B[0mall_args\u001B[0m\u001B[0;34m)\u001B[0m\u001B[0;34m\u001B[0m\u001B[0;34m\u001B[0m\u001B[0m\n\u001B[1;32m     62\u001B[0m             \u001B[0;32mif\u001B[0m \u001B[0mextra_args\u001B[0m \u001B[0;34m<=\u001B[0m \u001B[0;36m0\u001B[0m\u001B[0;34m:\u001B[0m\u001B[0;34m\u001B[0m\u001B[0;34m\u001B[0m\u001B[0m\n\u001B[0;32m---> 63\u001B[0;31m                 \u001B[0;32mreturn\u001B[0m \u001B[0mf\u001B[0m\u001B[0;34m(\u001B[0m\u001B[0;34m*\u001B[0m\u001B[0margs\u001B[0m\u001B[0;34m,\u001B[0m \u001B[0;34m**\u001B[0m\u001B[0mkwargs\u001B[0m\u001B[0;34m)\u001B[0m\u001B[0;34m\u001B[0m\u001B[0;34m\u001B[0m\u001B[0m\n\u001B[0m\u001B[1;32m     64\u001B[0m \u001B[0;34m\u001B[0m\u001B[0m\n\u001B[1;32m     65\u001B[0m             \u001B[0;31m# extra_args > 0\u001B[0m\u001B[0;34m\u001B[0m\u001B[0;34m\u001B[0m\u001B[0;34m\u001B[0m\u001B[0m\n",
      "\u001B[0;32m~/anaconda3/envs/Monai/lib/python3.9/site-packages/sklearn/metrics/_ranking.py\u001B[0m in \u001B[0;36mroc_curve\u001B[0;34m(y_true, y_score, pos_label, sample_weight, drop_intermediate)\u001B[0m\n\u001B[1;32m    911\u001B[0m \u001B[0;34m\u001B[0m\u001B[0m\n\u001B[1;32m    912\u001B[0m     \"\"\"\n\u001B[0;32m--> 913\u001B[0;31m     fps, tps, thresholds = _binary_clf_curve(\n\u001B[0m\u001B[1;32m    914\u001B[0m         y_true, y_score, pos_label=pos_label, sample_weight=sample_weight)\n\u001B[1;32m    915\u001B[0m \u001B[0;34m\u001B[0m\u001B[0m\n",
      "\u001B[0;32m~/anaconda3/envs/Monai/lib/python3.9/site-packages/sklearn/metrics/_ranking.py\u001B[0m in \u001B[0;36m_binary_clf_curve\u001B[0;34m(y_true, y_score, pos_label, sample_weight)\u001B[0m\n\u001B[1;32m    689\u001B[0m     if not (y_type == \"binary\" or\n\u001B[1;32m    690\u001B[0m             (y_type == \"multiclass\" and pos_label is not None)):\n\u001B[0;32m--> 691\u001B[0;31m         \u001B[0;32mraise\u001B[0m \u001B[0mValueError\u001B[0m\u001B[0;34m(\u001B[0m\u001B[0;34m\"{0} format is not supported\"\u001B[0m\u001B[0;34m.\u001B[0m\u001B[0mformat\u001B[0m\u001B[0;34m(\u001B[0m\u001B[0my_type\u001B[0m\u001B[0;34m)\u001B[0m\u001B[0;34m)\u001B[0m\u001B[0;34m\u001B[0m\u001B[0;34m\u001B[0m\u001B[0m\n\u001B[0m\u001B[1;32m    692\u001B[0m \u001B[0;34m\u001B[0m\u001B[0m\n\u001B[1;32m    693\u001B[0m     \u001B[0mcheck_consistent_length\u001B[0m\u001B[0;34m(\u001B[0m\u001B[0my_true\u001B[0m\u001B[0;34m,\u001B[0m \u001B[0my_score\u001B[0m\u001B[0;34m,\u001B[0m \u001B[0msample_weight\u001B[0m\u001B[0;34m)\u001B[0m\u001B[0;34m\u001B[0m\u001B[0;34m\u001B[0m\u001B[0m\n",
      "\u001B[0;31mValueError\u001B[0m: multiclass format is not supported"
     ]
    },
    {
     "data": {
      "image/png": "[encoded data removed]",
      "text/plain": [
       "<Figure size 432x288 with 2 Axes>"
      ]
     },
     "metadata": {
      "needs_background": "light"
     },
     "output_type": "display_data"
    }
   ],
   "source": [
    "# Train, Test, Save\n",
    "\n",
    "# initialise the LightningModule\n",
    "net = Net()\n",
    "\n",
    "# Pfad zum Speichern: \n",
    "log_dir = os.path.join(root_dir, \"save\", \"model_\" + Model, \"logs\") # tensorboard logs\n",
    "checkpoint_dir = os.path.join(root_dir, \"save\", \"model_\" + Model, \"versuch_\" + Versuch) # model \n",
    "\n",
    "# tensorboard loggers speichern\n",
    "tb_logger = pytorch_lightning.loggers.TensorBoardLogger(save_dir=log_dir) # macht jedes mal ein neuen Ordner auf (logs-default-version*[0,1,2...])\n",
    "\n",
    "# Netz speichern \n",
    "checkpoint_callback = ModelCheckpoint( #  macht jedes mal ein neuen Ordner auf (logs-\"test1-{epoch}-{val_loss:.2f}\") speichert Stand des letzten Trainingsschritts\n",
    "    filepath=os.path.join(checkpoint_dir, \"{epoch}-{val_loss:.2f}\"), # Speicher Pfad **2\n",
    "    save_last = True, # Speichert den Stand der letzten Epoche des Trainings (Name: last.ckpt)\n",
    "    save_top_k=100, # Speichert den Stand der k=2 besten Epochen [bester val loss] des Trainings (Name: epoch=*-val_loss=*.ckpt)\n",
    ")\n",
    "\n",
    "# Info Speichern\n",
    "\n",
    "torch.save(info, checkpoint_dir + \"/info.pt\")\n",
    "\n",
    "\n",
    "# initialise Lightning's trainer.\n",
    "trainer = pytorch_lightning.Trainer(\n",
    "    gpus=[-1],\n",
    "    max_epochs=Epochen, # Epochen\n",
    "    logger=tb_logger, # tensorboard loggers speichern\n",
    "    checkpoint_callback=checkpoint_callback, # Model checkpoints speichern\n",
    "    num_sanity_val_steps=1,\n",
    ")\n",
    "\n",
    "# train + val\n",
    "trainer.fit(net)\n",
    "\n",
    "# test\n",
    "trainer.test(net)"
   ]
  },
  {
   "cell_type": "code",
   "execution_count": 5,
   "id": "706d5c95-21b5-4d8c-a112-16a31bfd4880",
   "metadata": {},
   "outputs": [
    {
     "name": "stderr",
     "output_type": "stream",
     "text": [
      "GPU available: True, used: True\n",
      "TPU available: False, using: 0 TPU cores\n",
      "CUDA_VISIBLE_DEVICES: [0]\n"
     ]
    },
    {
     "name": "stdout",
     "output_type": "stream",
     "text": [
      "=================================================================\n",
      "Layer (type:depth-idx)                   Param #\n",
      "=================================================================\n",
      "├─Conv3d: 1-1                            112\n",
      "├─Conv3d: 1-2                            872\n",
      "├─Dropout3d: 1-3                         --\n",
      "├─MaxPool3d: 1-4                         --\n",
      "├─Linear: 1-5                            162,570,300\n",
      "├─Linear: 1-6                            122\n",
      "├─CrossEntropyLoss: 1-7                  --\n",
      "=================================================================\n",
      "Total params: 162,571,406\n",
      "Trainable params: 162,571,406\n",
      "Non-trainable params: 0\n",
      "=================================================================\n",
      "=================================================================\n",
      "Layer (type:depth-idx)                   Param #\n",
      "=================================================================\n",
      "├─Conv3d: 1-1                            112\n",
      "├─Conv3d: 1-2                            872\n",
      "├─Dropout3d: 1-3                         --\n",
      "├─MaxPool3d: 1-4                         --\n",
      "├─Linear: 1-5                            162,570,300\n",
      "├─Linear: 1-6                            122\n",
      "├─CrossEntropyLoss: 1-7                  --\n",
      "=================================================================\n",
      "Total params: 162,571,406\n",
      "Trainable params: 162,571,406\n",
      "Non-trainable params: 0\n",
      "=================================================================\n",
      "Train Data Size 14\n"
     ]
    },
    {
     "name": "stderr",
     "output_type": "stream",
     "text": [
      "/home/wolfda/anaconda3/envs/Monai/lib/python3.9/site-packages/pytorch_lightning/utilities/distributed.py:37: UserWarning: Could not log computational graph since the `model.example_input_array` attribute is not set or `input_array` was not given\n",
      "  warnings.warn(*args, **kwargs)\n"
     ]
    },
    {
     "data": {
      "application/vnd.jupyter.widget-view+json": {
       "model_id": "87bcdc9c224c4779afcdebea685179a8",
       "version_major": 2,
       "version_minor": 0
      },
      "text/plain": [
       "Testing: 0it [00:00, ?it/s]"
      ]
     },
     "metadata": {},
     "output_type": "display_data"
    },
    {
     "name": "stderr",
     "output_type": "stream",
     "text": [
      "<ipython-input-4-2abe8a951adf>:207: UserWarning: Implicit dimension choice for softmax has been deprecated. Change the call to include dim=X as an argument.\n",
      "  outputs = torch.nn.functional.softmax(outputs)\n",
      "<ipython-input-4-2abe8a951adf>:277: UserWarning: To copy construct from a tensor, it is recommended to use sourceTensor.clone().detach() or sourceTensor.clone().detach().requires_grad_(True), rather than torch.tensor(sourceTensor).\n",
      "  mean_test_loss = torch.tensor(test_loss / num_items) # mittlerer Loss\n"
     ]
    },
    {
     "name": "stdout",
     "output_type": "stream",
     "text": [
      "Prob Class 1 \n",
      " [0.73808306 0.21448955 0.26215947 0.18886788 0.46685225 0.01048274\n",
      " 0.55783707 0.48778874]\n",
      "Lable \n",
      " [1. 0. 0. 1. 0. 1. 0. 0.]\n",
      "\n",
      "True 5\n",
      "False 3\n",
      "\n",
      "acc tensor(0.6250)\n",
      "[0.66666667 0.5       ]\n",
      "\n",
      "Classification Report: \n",
      "              precision    recall  f1-score   support\n",
      "\n",
      "         0.0       0.67      0.80      0.73         5\n",
      "         1.0       0.50      0.33      0.40         3\n",
      "\n",
      "    accuracy                           0.62         8\n",
      "   macro avg       0.58      0.57      0.56         8\n",
      "weighted avg       0.60      0.62      0.60         8\n",
      "\n",
      "fpr [0. 0. 1. 1.]\n",
      "tpr [0.         0.33333333 0.33333333 1.        ]\n",
      "AUC\n",
      "0.3333333333333333\n",
      "Threshold 0.7380830645561218 tpr Value 0.5773502691896257\n"
     ]
    },
    {
     "data": {
      "image/png": "[encoded data removed]",
      "text/plain": [
       "<Figure size 432x288 with 2 Axes>"
      ]
     },
     "metadata": {
      "needs_background": "light"
     },
     "output_type": "display_data"
    },
    {
     "data": {
      "image/png": "[encoded data removed]",
      "text/plain": [
       "<Figure size 1080x648 with 1 Axes>"
      ]
     },
     "metadata": {
      "needs_background": "light"
     },
     "output_type": "display_data"
    },
    {
     "name": "stdout",
     "output_type": "stream",
     "text": [
      "--------------------------------------------------------------------------------\n",
      "DATALOADER:0 TEST RESULTS\n",
      "{'test_acc': tensor(0.6250), 'test_loss': tensor(0.7323, device='cuda:0')}\n",
      "--------------------------------------------------------------------------------\n"
     ]
    }
   ],
   "source": [
    "### Test mit trainiertem Modell (A) Testdurchlauf mit den kompletten Testdaten\n",
    "# Legt eine Datei \"lightning_logs\" an, die einfach löschen \n",
    "\n",
    "# Trainiertes Model wieder Laden (mit Pfad wie oben festgelegt **2)\n",
    "net = Net.load_from_checkpoint( # \"Net\" ist der Name unseres Netzes **1\n",
    "    \"/home/wolfda/Clinic_Data/Data/Sarkome_Catharina/Networks/body/3D_EigenNet/save/model_G/versuch_0/epoch=9-val_loss=0.66.ckpt\" # [model: A,B,C,..], [versuch: 0,1,2,..]\n",
    ") # letzte Epoche: last.ckpt | Besten 2 Epochen: epoch=5-val_loss=1.34.ckpt\n",
    "# ACHTUNG: Oben die Richtigen Daten nehmen + Anzahl Slices richtig angeben \n",
    "\n",
    "# Info über das Netz\n",
    "print(summary(net))\n",
    "\n",
    "# Info\n",
    "#print(\"INFO:\", torch.load(\"/home/wolfda/Clinic_Data/Data/Covid_Concern/Networks/3D_DenseNet_PreTrain/save/model_E/versuch_0/info.pt\")) # [model: A,B,C,..], [versuch: 0,1,2,..]\n",
    "\n",
    "# initialise Lightning's trainer.\n",
    "trainer = pytorch_lightning.Trainer(\n",
    "    gpus=[-1],\n",
    "    max_epochs=4,\n",
    "    num_sanity_val_steps=1,\n",
    "    checkpoint_callback=False\n",
    ")\n",
    "\n",
    "# test\n",
    "out = trainer.test(net)\n",
    "#print(out)\n",
    "\n",
    "# Eval Modus (macht PT Lightning bei model.test automatisch)\n",
    "Netz = net.eval()\n",
    "# Das ganze Netzt ausgeben\n",
    "#print(\"Ganzes Netz: \")\n",
    "#print(Netz)"
   ]
  },
  {
   "cell_type": "raw",
   "id": "9e98c765-8c9c-4c68-b8d1-5dee76636c58",
   "metadata": {},
   "source": []
  },
  {
   "cell_type": "code",
   "execution_count": 29,
   "id": "55eff73e-3fed-4b35-aea7-4f344d085074",
   "metadata": {},
   "outputs": [
    {
     "data": {
      "image/png": "[encoded data removed]",
      "text/plain": [
       "<Figure size 1080x648 with 1 Axes>"
      ]
     },
     "metadata": {
      "needs_background": "light"
     },
     "output_type": "display_data"
    }
   ],
   "source": [
    "# test 1\n",
    "fpr = np.array([0.        , 0.         ,0.         ,0.04347826, 0.04347826, 0.13043478,\n",
    " 0.13043478, 0.52173913, 0.52173913, 0.60869565, 0.60869565, 0.82608696,\n",
    " 0.82608696, 0.91304348, 0.91304348, 1.,         1.        ])\n",
    "           \n",
    "tpr = np.array([0. ,    0.0625 ,0.125,  0.125 , 0.4375 ,0.4375, 0.5625, 0.5625, 0.6875, 0.6875,\n",
    " 0.8125, 0.8125, 0.875,  0.875 , 0.9375, 0.9375, 1.    ])\n",
    "\n",
    "# test 2\n",
    "fpr = np.array([0. ,        0.04347826, 0.04347826, 0.08695652, 0.08695652, 0.13043478,\n",
    " 0.13043478, 0.26086957, 0.26086957, 0.30434783, 0.30434783, 0.47826087,\n",
    " 0.47826087, 0.7826087,  0.7826087,  1.        ])\n",
    "           \n",
    "tpr = np.array([0. ,    0. ,    0.125 , 0.125,  0.375,  0.375,  0.6875, 0.6875, 0.8125, 0.8125,\n",
    " 0.875,  0.875 , 0.9375, 0.9375, 1.  ,   1.    ])\n",
    "\n",
    " \n",
    "f, ax = plt.subplots(figsize=(15, 9))\n",
    "plt.plot([0,1],[0,1], 'k--')\n",
    "plt.plot(fpr, tpr, label= \"DaniNet\")\n",
    "plt.legend()\n",
    "plt.xlabel(\"FPR\")\n",
    "plt.ylabel(\"TPR\")\n",
    "plt.title('Receiver Operating Characteristic')\n",
    "plt.show()"
   ]
  },
  {
   "cell_type": "code",
   "execution_count": 8,
   "id": "73fd87a5-cdb3-44a8-941f-f5af73944e44",
   "metadata": {},
   "outputs": [
    {
     "name": "stdout",
     "output_type": "stream",
     "text": [
      "The tensorboard extension is already loaded. To reload it, use:\n",
      "  %reload_ext tensorboard\n"
     ]
    },
    {
     "data": {
      "text/plain": [
       "Reusing TensorBoard on port 6006 (pid 184155), started 0:00:10 ago. (Use '!kill 184155' to kill it.)"
      ]
     },
     "metadata": {},
     "output_type": "display_data"
    },
    {
     "data": {
      "text/html": [
       "\n",
       "      <iframe id=\"tensorboard-frame-a5d2f346baa9455\" width=\"100%\" height=\"800\" frameborder=\"0\">\n",
       "      </iframe>\n",
       "      <script>\n",
       "        (function() {\n",
       "          const frame = document.getElementById(\"tensorboard-frame-a5d2f346baa9455\");\n",
       "          const url = new URL(\"/\", window.location);\n",
       "          url.port = 6006;\n",
       "          frame.src = url;\n",
       "        })();\n",
       "      </script>\n",
       "  "
      ],
      "text/plain": [
       "<IPython.core.display.HTML object>"
      ]
     },
     "metadata": {},
     "output_type": "display_data"
    }
   ],
   "source": [
    "%load_ext tensorboard\n",
    "%tensorboard --logdir=\"/home/wolfda/Clinic_Data/Data/Sarkome_Catharina/Networks/body/3D_EigenNet/save/model_B/logs\" "
   ]
  },
  {
   "cell_type": "code",
   "execution_count": null,
   "id": "877dfb0f-6e96-4ffb-bf4a-0e5ba23d65ae",
   "metadata": {},
   "outputs": [],
   "source": []
  },
  {
   "cell_type": "code",
   "execution_count": 15,
   "id": "9404bb50-ec24-4e0e-94c9-0d39098be178",
   "metadata": {},
   "outputs": [
    {
     "ename": "RuntimeError",
     "evalue": "Expected 5-dimensional input for 5-dimensional weight [64, 2, 7, 7, 7], but got 4-dimensional input of size [1, 20, 90, 70] instead",
     "output_type": "error",
     "traceback": [
      "\u001B[0;31m---------------------------------------------------------------------------\u001B[0m",
      "\u001B[0;31mRuntimeError\u001B[0m                              Traceback (most recent call last)",
      "\u001B[0;32m<ipython-input-15-d7e53e8448bf>\u001B[0m in \u001B[0;36m<module>\u001B[0;34m\u001B[0m\n\u001B[1;32m     25\u001B[0m \u001B[0;34m\u001B[0m\u001B[0m\n\u001B[1;32m     26\u001B[0m \u001B[0mmodel\u001B[0m\u001B[0;34m.\u001B[0m\u001B[0meval\u001B[0m\u001B[0;34m(\u001B[0m\u001B[0;34m)\u001B[0m\u001B[0;34m\u001B[0m\u001B[0;34m\u001B[0m\u001B[0m\n\u001B[0;32m---> 27\u001B[0;31m \u001B[0my_hat\u001B[0m \u001B[0;34m=\u001B[0m \u001B[0mmodel\u001B[0m\u001B[0;34m(\u001B[0m\u001B[0mval_data_dicts\u001B[0m\u001B[0;34m[\u001B[0m\u001B[0;36m1\u001B[0m\u001B[0;34m]\u001B[0m\u001B[0;34m[\u001B[0m\u001B[0;34m\"image\"\u001B[0m\u001B[0;34m]\u001B[0m\u001B[0;34m.\u001B[0m\u001B[0munsqueeze\u001B[0m\u001B[0;34m(\u001B[0m\u001B[0;36m0\u001B[0m\u001B[0;34m)\u001B[0m\u001B[0;34m)\u001B[0m \u001B[0;31m# Das Bild von einem Patienetn ins Netz geben\u001B[0m\u001B[0;34m\u001B[0m\u001B[0;34m\u001B[0m\u001B[0m\n\u001B[0m\u001B[1;32m     28\u001B[0m \u001B[0mprint\u001B[0m\u001B[0;34m(\u001B[0m\u001B[0;34m\"Pred:\"\u001B[0m\u001B[0;34m,\u001B[0m \u001B[0mtorch\u001B[0m\u001B[0;34m.\u001B[0m\u001B[0margmax\u001B[0m\u001B[0;34m(\u001B[0m\u001B[0my_hat\u001B[0m\u001B[0;34m,\u001B[0m \u001B[0mdim\u001B[0m\u001B[0;34m=\u001B[0m\u001B[0;36m1\u001B[0m\u001B[0;34m)\u001B[0m\u001B[0;34m)\u001B[0m \u001B[0;31m# Netz gibt Vektor mit 2 Elementen aus -> Größtes Element (größte Wahrschl.) ist die Prädiktion\u001B[0m\u001B[0;34m\u001B[0m\u001B[0;34m\u001B[0m\u001B[0m\n\u001B[1;32m     29\u001B[0m \u001B[0mprint\u001B[0m\u001B[0;34m(\u001B[0m\u001B[0;34m\"True:\"\u001B[0m\u001B[0;34m,\u001B[0m \u001B[0mval_data_dicts\u001B[0m\u001B[0;34m[\u001B[0m\u001B[0;36m1\u001B[0m\u001B[0;34m]\u001B[0m\u001B[0;34m[\u001B[0m\u001B[0;34m\"label\"\u001B[0m\u001B[0;34m]\u001B[0m\u001B[0;34m)\u001B[0m\u001B[0;34m\u001B[0m\u001B[0;34m\u001B[0m\u001B[0m\n",
      "\u001B[0;32m~/anaconda3/envs/Monai/lib/python3.9/site-packages/torch/nn/modules/module.py\u001B[0m in \u001B[0;36m_call_impl\u001B[0;34m(self, *input, **kwargs)\u001B[0m\n\u001B[1;32m   1049\u001B[0m         if not (self._backward_hooks or self._forward_hooks or self._forward_pre_hooks or _global_backward_hooks\n\u001B[1;32m   1050\u001B[0m                 or _global_forward_hooks or _global_forward_pre_hooks):\n\u001B[0;32m-> 1051\u001B[0;31m             \u001B[0;32mreturn\u001B[0m \u001B[0mforward_call\u001B[0m\u001B[0;34m(\u001B[0m\u001B[0;34m*\u001B[0m\u001B[0minput\u001B[0m\u001B[0;34m,\u001B[0m \u001B[0;34m**\u001B[0m\u001B[0mkwargs\u001B[0m\u001B[0;34m)\u001B[0m\u001B[0;34m\u001B[0m\u001B[0;34m\u001B[0m\u001B[0m\n\u001B[0m\u001B[1;32m   1052\u001B[0m         \u001B[0;31m# Do not call functions when jit is used\u001B[0m\u001B[0;34m\u001B[0m\u001B[0;34m\u001B[0m\u001B[0;34m\u001B[0m\u001B[0m\n\u001B[1;32m   1053\u001B[0m         \u001B[0mfull_backward_hooks\u001B[0m\u001B[0;34m,\u001B[0m \u001B[0mnon_full_backward_hooks\u001B[0m \u001B[0;34m=\u001B[0m \u001B[0;34m[\u001B[0m\u001B[0;34m]\u001B[0m\u001B[0;34m,\u001B[0m \u001B[0;34m[\u001B[0m\u001B[0;34m]\u001B[0m\u001B[0;34m\u001B[0m\u001B[0;34m\u001B[0m\u001B[0m\n",
      "\u001B[0;32m~/anaconda3/envs/Monai/lib/python3.9/site-packages/medcam/medcam_inject.py\u001B[0m in \u001B[0;36mforward\u001B[0;34m(self, batch, label, mask, raw_input)\u001B[0m\n\u001B[1;32m    201\u001B[0m     \u001B[0;32mif\u001B[0m \u001B[0mself\u001B[0m\u001B[0;34m.\u001B[0m\u001B[0mmedcam_dict\u001B[0m\u001B[0;34m[\u001B[0m\u001B[0;34m'enabled'\u001B[0m\u001B[0;34m]\u001B[0m\u001B[0;34m:\u001B[0m\u001B[0;34m\u001B[0m\u001B[0;34m\u001B[0m\u001B[0m\n\u001B[1;32m    202\u001B[0m         \u001B[0;32mwith\u001B[0m \u001B[0mtorch\u001B[0m\u001B[0;34m.\u001B[0m\u001B[0menable_grad\u001B[0m\u001B[0;34m(\u001B[0m\u001B[0;34m)\u001B[0m\u001B[0;34m:\u001B[0m\u001B[0;34m\u001B[0m\u001B[0;34m\u001B[0m\u001B[0m\n\u001B[0;32m--> 203\u001B[0;31m             \u001B[0mself\u001B[0m\u001B[0;34m.\u001B[0m\u001B[0mtest_run\u001B[0m\u001B[0;34m(\u001B[0m\u001B[0mbatch\u001B[0m\u001B[0;34m,\u001B[0m \u001B[0minternal\u001B[0m\u001B[0;34m=\u001B[0m\u001B[0;32mTrue\u001B[0m\u001B[0;34m)\u001B[0m\u001B[0;34m\u001B[0m\u001B[0;34m\u001B[0m\u001B[0m\n\u001B[0m\u001B[1;32m    204\u001B[0m             \u001B[0;32mif\u001B[0m \u001B[0mself\u001B[0m\u001B[0;34m.\u001B[0m\u001B[0mmedcam_dict\u001B[0m\u001B[0;34m[\u001B[0m\u001B[0;34m'layer'\u001B[0m\u001B[0;34m]\u001B[0m \u001B[0;34m==\u001B[0m \u001B[0;34m'full'\u001B[0m \u001B[0;32mand\u001B[0m \u001B[0;32mnot\u001B[0m \u001B[0mself\u001B[0m\u001B[0;34m.\u001B[0m\u001B[0mmedcam_dict\u001B[0m\u001B[0;34m[\u001B[0m\u001B[0;34m'tested'\u001B[0m\u001B[0;34m]\u001B[0m\u001B[0;34m:\u001B[0m\u001B[0;34m\u001B[0m\u001B[0;34m\u001B[0m\u001B[0m\n\u001B[1;32m    205\u001B[0m                 \u001B[0;32mraise\u001B[0m \u001B[0mValueError\u001B[0m\u001B[0;34m(\u001B[0m\u001B[0;34m\"Layer mode 'full' requires a test run either during injection or by calling test_run() afterwards\"\u001B[0m\u001B[0;34m)\u001B[0m\u001B[0;34m\u001B[0m\u001B[0;34m\u001B[0m\u001B[0m\n",
      "\u001B[0;32m~/anaconda3/envs/Monai/lib/python3.9/site-packages/medcam/medcam_inject.py\u001B[0m in \u001B[0;36mtest_run\u001B[0;34m(self, batch, internal)\u001B[0m\n\u001B[1;32m    230\u001B[0m     \u001B[0;32mif\u001B[0m \u001B[0mbatch\u001B[0m \u001B[0;32mis\u001B[0m \u001B[0;32mnot\u001B[0m \u001B[0;32mNone\u001B[0m \u001B[0;32mand\u001B[0m \u001B[0;32mnot\u001B[0m \u001B[0mself\u001B[0m\u001B[0;34m.\u001B[0m\u001B[0mmedcam_dict\u001B[0m\u001B[0;34m[\u001B[0m\u001B[0;34m'tested'\u001B[0m\u001B[0;34m]\u001B[0m\u001B[0;34m:\u001B[0m\u001B[0;34m\u001B[0m\u001B[0;34m\u001B[0m\u001B[0m\n\u001B[1;32m    231\u001B[0m         \u001B[0;32mwith\u001B[0m \u001B[0mtorch\u001B[0m\u001B[0;34m.\u001B[0m\u001B[0menable_grad\u001B[0m\u001B[0;34m(\u001B[0m\u001B[0;34m)\u001B[0m\u001B[0;34m:\u001B[0m\u001B[0;34m\u001B[0m\u001B[0;34m\u001B[0m\u001B[0m\n\u001B[0;32m--> 232\u001B[0;31m             \u001B[0m_\u001B[0m \u001B[0;34m=\u001B[0m \u001B[0mself\u001B[0m\u001B[0;34m.\u001B[0m\u001B[0mmedcam_dict\u001B[0m\u001B[0;34m[\u001B[0m\u001B[0;34m'model_backend'\u001B[0m\u001B[0;34m]\u001B[0m\u001B[0;34m.\u001B[0m\u001B[0mgenerate_attention_map\u001B[0m\u001B[0;34m(\u001B[0m\u001B[0mbatch\u001B[0m\u001B[0;34m,\u001B[0m \u001B[0;32mNone\u001B[0m\u001B[0;34m)\u001B[0m\u001B[0;34m\u001B[0m\u001B[0;34m\u001B[0m\u001B[0m\n\u001B[0m\u001B[1;32m    233\u001B[0m             \u001B[0mregistered_hooks\u001B[0m \u001B[0;34m=\u001B[0m \u001B[0mself\u001B[0m\u001B[0;34m.\u001B[0m\u001B[0mmedcam_dict\u001B[0m\u001B[0;34m[\u001B[0m\u001B[0;34m'model_backend'\u001B[0m\u001B[0;34m]\u001B[0m\u001B[0;34m.\u001B[0m\u001B[0mget_registered_hooks\u001B[0m\u001B[0;34m(\u001B[0m\u001B[0;34m)\u001B[0m\u001B[0;34m\u001B[0m\u001B[0;34m\u001B[0m\u001B[0m\n\u001B[1;32m    234\u001B[0m         \u001B[0mself\u001B[0m\u001B[0;34m.\u001B[0m\u001B[0mmedcam_dict\u001B[0m\u001B[0;34m[\u001B[0m\u001B[0;34m'tested'\u001B[0m\u001B[0;34m]\u001B[0m \u001B[0;34m=\u001B[0m \u001B[0;32mTrue\u001B[0m\u001B[0;34m\u001B[0m\u001B[0;34m\u001B[0m\u001B[0m\n",
      "\u001B[0;32m~/anaconda3/envs/Monai/lib/python3.9/site-packages/medcam/backends/base.py\u001B[0m in \u001B[0;36mgenerate_attention_map\u001B[0;34m(self, batch, label)\u001B[0m\n\u001B[1;32m     19\u001B[0m     \u001B[0;32mdef\u001B[0m \u001B[0mgenerate_attention_map\u001B[0m\u001B[0;34m(\u001B[0m\u001B[0mself\u001B[0m\u001B[0;34m,\u001B[0m \u001B[0mbatch\u001B[0m\u001B[0;34m,\u001B[0m \u001B[0mlabel\u001B[0m\u001B[0;34m)\u001B[0m\u001B[0;34m:\u001B[0m\u001B[0;34m\u001B[0m\u001B[0;34m\u001B[0m\u001B[0m\n\u001B[1;32m     20\u001B[0m         \u001B[0;34m\"\"\"Handles the generation of the attention map from start to finish.\"\"\"\u001B[0m\u001B[0;34m\u001B[0m\u001B[0;34m\u001B[0m\u001B[0m\n\u001B[0;32m---> 21\u001B[0;31m         \u001B[0moutput\u001B[0m \u001B[0;34m=\u001B[0m \u001B[0mself\u001B[0m\u001B[0;34m.\u001B[0m\u001B[0mforward\u001B[0m\u001B[0;34m(\u001B[0m\u001B[0mbatch\u001B[0m\u001B[0;34m)\u001B[0m\u001B[0;34m\u001B[0m\u001B[0;34m\u001B[0m\u001B[0m\n\u001B[0m\u001B[1;32m     22\u001B[0m         \u001B[0mself\u001B[0m\u001B[0;34m.\u001B[0m\u001B[0mbackward\u001B[0m\u001B[0;34m(\u001B[0m\u001B[0mlabel\u001B[0m\u001B[0;34m=\u001B[0m\u001B[0mlabel\u001B[0m\u001B[0;34m)\u001B[0m\u001B[0;34m\u001B[0m\u001B[0;34m\u001B[0m\u001B[0m\n\u001B[1;32m     23\u001B[0m         \u001B[0mattention_map\u001B[0m \u001B[0;34m=\u001B[0m \u001B[0mself\u001B[0m\u001B[0;34m.\u001B[0m\u001B[0mgenerate\u001B[0m\u001B[0;34m(\u001B[0m\u001B[0;34m)\u001B[0m\u001B[0;34m\u001B[0m\u001B[0;34m\u001B[0m\u001B[0m\n",
      "\u001B[0;32m~/anaconda3/envs/Monai/lib/python3.9/site-packages/medcam/backends/grad_cam.py\u001B[0m in \u001B[0;36mforward\u001B[0;34m(self, data)\u001B[0m\n\u001B[1;32m    108\u001B[0m         \u001B[0;34m\"\"\"Calls the forward() of the base.\"\"\"\u001B[0m\u001B[0;34m\u001B[0m\u001B[0;34m\u001B[0m\u001B[0m\n\u001B[1;32m    109\u001B[0m         \u001B[0mself\u001B[0m\u001B[0;34m.\u001B[0m\u001B[0m_register_hooks\u001B[0m\u001B[0;34m(\u001B[0m\u001B[0;34m)\u001B[0m\u001B[0;34m\u001B[0m\u001B[0;34m\u001B[0m\u001B[0m\n\u001B[0;32m--> 110\u001B[0;31m         \u001B[0;32mreturn\u001B[0m \u001B[0msuper\u001B[0m\u001B[0;34m(\u001B[0m\u001B[0mGradCAM\u001B[0m\u001B[0;34m,\u001B[0m \u001B[0mself\u001B[0m\u001B[0;34m)\u001B[0m\u001B[0;34m.\u001B[0m\u001B[0mforward\u001B[0m\u001B[0;34m(\u001B[0m\u001B[0mdata\u001B[0m\u001B[0;34m)\u001B[0m\u001B[0;34m\u001B[0m\u001B[0;34m\u001B[0m\u001B[0m\n\u001B[0m\u001B[1;32m    111\u001B[0m \u001B[0;34m\u001B[0m\u001B[0m\n\u001B[1;32m    112\u001B[0m     \u001B[0;32mdef\u001B[0m \u001B[0mgenerate\u001B[0m\u001B[0;34m(\u001B[0m\u001B[0mself\u001B[0m\u001B[0;34m)\u001B[0m\u001B[0;34m:\u001B[0m\u001B[0;34m\u001B[0m\u001B[0;34m\u001B[0m\u001B[0m\n",
      "\u001B[0;32m~/anaconda3/envs/Monai/lib/python3.9/site-packages/medcam/backends/base.py\u001B[0m in \u001B[0;36mforward\u001B[0;34m(self, batch)\u001B[0m\n\u001B[1;32m     27\u001B[0m         \u001B[0;34m\"\"\"Calls the forward() of the model.\"\"\"\u001B[0m\u001B[0;34m\u001B[0m\u001B[0;34m\u001B[0m\u001B[0m\n\u001B[1;32m     28\u001B[0m         \u001B[0mself\u001B[0m\u001B[0;34m.\u001B[0m\u001B[0mmodel\u001B[0m\u001B[0;34m.\u001B[0m\u001B[0mzero_grad\u001B[0m\u001B[0;34m(\u001B[0m\u001B[0;34m)\u001B[0m\u001B[0;34m\u001B[0m\u001B[0;34m\u001B[0m\u001B[0m\n\u001B[0;32m---> 29\u001B[0;31m         \u001B[0mself\u001B[0m\u001B[0;34m.\u001B[0m\u001B[0mlogits\u001B[0m \u001B[0;34m=\u001B[0m \u001B[0mself\u001B[0m\u001B[0;34m.\u001B[0m\u001B[0mmodel\u001B[0m\u001B[0;34m.\u001B[0m\u001B[0mmodel_forward\u001B[0m\u001B[0;34m(\u001B[0m\u001B[0mbatch\u001B[0m\u001B[0;34m)\u001B[0m\u001B[0;34m\u001B[0m\u001B[0;34m\u001B[0m\u001B[0m\n\u001B[0m\u001B[1;32m     30\u001B[0m         \u001B[0mself\u001B[0m\u001B[0;34m.\u001B[0m\u001B[0m_extract_metadata\u001B[0m\u001B[0;34m(\u001B[0m\u001B[0mbatch\u001B[0m\u001B[0;34m,\u001B[0m \u001B[0mself\u001B[0m\u001B[0;34m.\u001B[0m\u001B[0mlogits\u001B[0m\u001B[0;34m)\u001B[0m\u001B[0;34m\u001B[0m\u001B[0;34m\u001B[0m\u001B[0m\n\u001B[1;32m     31\u001B[0m         \u001B[0mself\u001B[0m\u001B[0;34m.\u001B[0m\u001B[0m_set_postprocessor_and_label\u001B[0m\u001B[0;34m(\u001B[0m\u001B[0mself\u001B[0m\u001B[0;34m.\u001B[0m\u001B[0mlogits\u001B[0m\u001B[0;34m)\u001B[0m\u001B[0;34m\u001B[0m\u001B[0;34m\u001B[0m\u001B[0m\n",
      "\u001B[0;32m<ipython-input-14-e589f71375e6>\u001B[0m in \u001B[0;36mforward\u001B[0;34m(self, x)\u001B[0m\n\u001B[1;32m     24\u001B[0m \u001B[0;34m\u001B[0m\u001B[0m\n\u001B[1;32m     25\u001B[0m         \u001B[0;31m#print(\"Conv In\", x.shape)\u001B[0m\u001B[0;34m\u001B[0m\u001B[0;34m\u001B[0m\u001B[0;34m\u001B[0m\u001B[0m\n\u001B[0;32m---> 26\u001B[0;31m         \u001B[0mx\u001B[0m \u001B[0;34m=\u001B[0m \u001B[0mself\u001B[0m\u001B[0;34m.\u001B[0m\u001B[0mmodel\u001B[0m\u001B[0;34m(\u001B[0m\u001B[0mx\u001B[0m\u001B[0;34m)\u001B[0m\u001B[0;34m\u001B[0m\u001B[0;34m\u001B[0m\u001B[0m\n\u001B[0m\u001B[1;32m     27\u001B[0m         \u001B[0;31m#print(\"Conv Out\", x.shape)\u001B[0m\u001B[0;34m\u001B[0m\u001B[0;34m\u001B[0m\u001B[0;34m\u001B[0m\u001B[0m\n\u001B[1;32m     28\u001B[0m \u001B[0;34m\u001B[0m\u001B[0m\n",
      "\u001B[0;32m~/anaconda3/envs/Monai/lib/python3.9/site-packages/torch/nn/modules/module.py\u001B[0m in \u001B[0;36m_call_impl\u001B[0;34m(self, *input, **kwargs)\u001B[0m\n\u001B[1;32m   1069\u001B[0m             \u001B[0minput\u001B[0m \u001B[0;34m=\u001B[0m \u001B[0mbw_hook\u001B[0m\u001B[0;34m.\u001B[0m\u001B[0msetup_input_hook\u001B[0m\u001B[0;34m(\u001B[0m\u001B[0minput\u001B[0m\u001B[0;34m)\u001B[0m\u001B[0;34m\u001B[0m\u001B[0;34m\u001B[0m\u001B[0m\n\u001B[1;32m   1070\u001B[0m \u001B[0;34m\u001B[0m\u001B[0m\n\u001B[0;32m-> 1071\u001B[0;31m         \u001B[0mresult\u001B[0m \u001B[0;34m=\u001B[0m \u001B[0mforward_call\u001B[0m\u001B[0;34m(\u001B[0m\u001B[0;34m*\u001B[0m\u001B[0minput\u001B[0m\u001B[0;34m,\u001B[0m \u001B[0;34m**\u001B[0m\u001B[0mkwargs\u001B[0m\u001B[0;34m)\u001B[0m\u001B[0;34m\u001B[0m\u001B[0;34m\u001B[0m\u001B[0m\n\u001B[0m\u001B[1;32m   1072\u001B[0m         \u001B[0;32mif\u001B[0m \u001B[0m_global_forward_hooks\u001B[0m \u001B[0;32mor\u001B[0m \u001B[0mself\u001B[0m\u001B[0;34m.\u001B[0m\u001B[0m_forward_hooks\u001B[0m\u001B[0;34m:\u001B[0m\u001B[0;34m\u001B[0m\u001B[0;34m\u001B[0m\u001B[0m\n\u001B[1;32m   1073\u001B[0m             for hook in itertools.chain(\n",
      "\u001B[0;32m~/anaconda3/envs/Monai/lib/python3.9/site-packages/monai/networks/nets/senet.py\u001B[0m in \u001B[0;36mforward\u001B[0;34m(self, x)\u001B[0m\n\u001B[1;32m    245\u001B[0m \u001B[0;34m\u001B[0m\u001B[0m\n\u001B[1;32m    246\u001B[0m     \u001B[0;32mdef\u001B[0m \u001B[0mforward\u001B[0m\u001B[0;34m(\u001B[0m\u001B[0mself\u001B[0m\u001B[0;34m,\u001B[0m \u001B[0mx\u001B[0m\u001B[0;34m:\u001B[0m \u001B[0mtorch\u001B[0m\u001B[0;34m.\u001B[0m\u001B[0mTensor\u001B[0m\u001B[0;34m)\u001B[0m \u001B[0;34m->\u001B[0m \u001B[0mtorch\u001B[0m\u001B[0;34m.\u001B[0m\u001B[0mTensor\u001B[0m\u001B[0;34m:\u001B[0m\u001B[0;34m\u001B[0m\u001B[0;34m\u001B[0m\u001B[0m\n\u001B[0;32m--> 247\u001B[0;31m         \u001B[0mx\u001B[0m \u001B[0;34m=\u001B[0m \u001B[0mself\u001B[0m\u001B[0;34m.\u001B[0m\u001B[0mfeatures\u001B[0m\u001B[0;34m(\u001B[0m\u001B[0mx\u001B[0m\u001B[0;34m)\u001B[0m\u001B[0;34m\u001B[0m\u001B[0;34m\u001B[0m\u001B[0m\n\u001B[0m\u001B[1;32m    248\u001B[0m         \u001B[0mx\u001B[0m \u001B[0;34m=\u001B[0m \u001B[0mself\u001B[0m\u001B[0;34m.\u001B[0m\u001B[0mlogits\u001B[0m\u001B[0;34m(\u001B[0m\u001B[0mx\u001B[0m\u001B[0;34m)\u001B[0m\u001B[0;34m\u001B[0m\u001B[0;34m\u001B[0m\u001B[0m\n\u001B[1;32m    249\u001B[0m         \u001B[0;32mreturn\u001B[0m \u001B[0mx\u001B[0m\u001B[0;34m\u001B[0m\u001B[0;34m\u001B[0m\u001B[0m\n",
      "\u001B[0;32m~/anaconda3/envs/Monai/lib/python3.9/site-packages/monai/networks/nets/senet.py\u001B[0m in \u001B[0;36mfeatures\u001B[0;34m(self, x)\u001B[0m\n\u001B[1;32m    229\u001B[0m \u001B[0;34m\u001B[0m\u001B[0m\n\u001B[1;32m    230\u001B[0m     \u001B[0;32mdef\u001B[0m \u001B[0mfeatures\u001B[0m\u001B[0;34m(\u001B[0m\u001B[0mself\u001B[0m\u001B[0;34m,\u001B[0m \u001B[0mx\u001B[0m\u001B[0;34m:\u001B[0m \u001B[0mtorch\u001B[0m\u001B[0;34m.\u001B[0m\u001B[0mTensor\u001B[0m\u001B[0;34m)\u001B[0m\u001B[0;34m:\u001B[0m\u001B[0;34m\u001B[0m\u001B[0;34m\u001B[0m\u001B[0m\n\u001B[0;32m--> 231\u001B[0;31m         \u001B[0mx\u001B[0m \u001B[0;34m=\u001B[0m \u001B[0mself\u001B[0m\u001B[0;34m.\u001B[0m\u001B[0mlayer0\u001B[0m\u001B[0;34m(\u001B[0m\u001B[0mx\u001B[0m\u001B[0;34m)\u001B[0m\u001B[0;34m\u001B[0m\u001B[0;34m\u001B[0m\u001B[0m\n\u001B[0m\u001B[1;32m    232\u001B[0m         \u001B[0mx\u001B[0m \u001B[0;34m=\u001B[0m \u001B[0mself\u001B[0m\u001B[0;34m.\u001B[0m\u001B[0mlayer1\u001B[0m\u001B[0;34m(\u001B[0m\u001B[0mx\u001B[0m\u001B[0;34m)\u001B[0m\u001B[0;34m\u001B[0m\u001B[0;34m\u001B[0m\u001B[0m\n\u001B[1;32m    233\u001B[0m         \u001B[0mx\u001B[0m \u001B[0;34m=\u001B[0m \u001B[0mself\u001B[0m\u001B[0;34m.\u001B[0m\u001B[0mlayer2\u001B[0m\u001B[0;34m(\u001B[0m\u001B[0mx\u001B[0m\u001B[0;34m)\u001B[0m\u001B[0;34m\u001B[0m\u001B[0;34m\u001B[0m\u001B[0m\n",
      "\u001B[0;32m~/anaconda3/envs/Monai/lib/python3.9/site-packages/torch/nn/modules/module.py\u001B[0m in \u001B[0;36m_call_impl\u001B[0;34m(self, *input, **kwargs)\u001B[0m\n\u001B[1;32m   1069\u001B[0m             \u001B[0minput\u001B[0m \u001B[0;34m=\u001B[0m \u001B[0mbw_hook\u001B[0m\u001B[0;34m.\u001B[0m\u001B[0msetup_input_hook\u001B[0m\u001B[0;34m(\u001B[0m\u001B[0minput\u001B[0m\u001B[0;34m)\u001B[0m\u001B[0;34m\u001B[0m\u001B[0;34m\u001B[0m\u001B[0m\n\u001B[1;32m   1070\u001B[0m \u001B[0;34m\u001B[0m\u001B[0m\n\u001B[0;32m-> 1071\u001B[0;31m         \u001B[0mresult\u001B[0m \u001B[0;34m=\u001B[0m \u001B[0mforward_call\u001B[0m\u001B[0;34m(\u001B[0m\u001B[0;34m*\u001B[0m\u001B[0minput\u001B[0m\u001B[0;34m,\u001B[0m \u001B[0;34m**\u001B[0m\u001B[0mkwargs\u001B[0m\u001B[0;34m)\u001B[0m\u001B[0;34m\u001B[0m\u001B[0;34m\u001B[0m\u001B[0m\n\u001B[0m\u001B[1;32m   1072\u001B[0m         \u001B[0;32mif\u001B[0m \u001B[0m_global_forward_hooks\u001B[0m \u001B[0;32mor\u001B[0m \u001B[0mself\u001B[0m\u001B[0;34m.\u001B[0m\u001B[0m_forward_hooks\u001B[0m\u001B[0;34m:\u001B[0m\u001B[0;34m\u001B[0m\u001B[0;34m\u001B[0m\u001B[0m\n\u001B[1;32m   1073\u001B[0m             for hook in itertools.chain(\n",
      "\u001B[0;32m~/anaconda3/envs/Monai/lib/python3.9/site-packages/torch/nn/modules/container.py\u001B[0m in \u001B[0;36mforward\u001B[0;34m(self, input)\u001B[0m\n\u001B[1;32m    137\u001B[0m     \u001B[0;32mdef\u001B[0m \u001B[0mforward\u001B[0m\u001B[0;34m(\u001B[0m\u001B[0mself\u001B[0m\u001B[0;34m,\u001B[0m \u001B[0minput\u001B[0m\u001B[0;34m)\u001B[0m\u001B[0;34m:\u001B[0m\u001B[0;34m\u001B[0m\u001B[0;34m\u001B[0m\u001B[0m\n\u001B[1;32m    138\u001B[0m         \u001B[0;32mfor\u001B[0m \u001B[0mmodule\u001B[0m \u001B[0;32min\u001B[0m \u001B[0mself\u001B[0m\u001B[0;34m:\u001B[0m\u001B[0;34m\u001B[0m\u001B[0;34m\u001B[0m\u001B[0m\n\u001B[0;32m--> 139\u001B[0;31m             \u001B[0minput\u001B[0m \u001B[0;34m=\u001B[0m \u001B[0mmodule\u001B[0m\u001B[0;34m(\u001B[0m\u001B[0minput\u001B[0m\u001B[0;34m)\u001B[0m\u001B[0;34m\u001B[0m\u001B[0;34m\u001B[0m\u001B[0m\n\u001B[0m\u001B[1;32m    140\u001B[0m         \u001B[0;32mreturn\u001B[0m \u001B[0minput\u001B[0m\u001B[0;34m\u001B[0m\u001B[0;34m\u001B[0m\u001B[0m\n\u001B[1;32m    141\u001B[0m \u001B[0;34m\u001B[0m\u001B[0m\n",
      "\u001B[0;32m~/anaconda3/envs/Monai/lib/python3.9/site-packages/torch/nn/modules/module.py\u001B[0m in \u001B[0;36m_call_impl\u001B[0;34m(self, *input, **kwargs)\u001B[0m\n\u001B[1;32m   1069\u001B[0m             \u001B[0minput\u001B[0m \u001B[0;34m=\u001B[0m \u001B[0mbw_hook\u001B[0m\u001B[0;34m.\u001B[0m\u001B[0msetup_input_hook\u001B[0m\u001B[0;34m(\u001B[0m\u001B[0minput\u001B[0m\u001B[0;34m)\u001B[0m\u001B[0;34m\u001B[0m\u001B[0;34m\u001B[0m\u001B[0m\n\u001B[1;32m   1070\u001B[0m \u001B[0;34m\u001B[0m\u001B[0m\n\u001B[0;32m-> 1071\u001B[0;31m         \u001B[0mresult\u001B[0m \u001B[0;34m=\u001B[0m \u001B[0mforward_call\u001B[0m\u001B[0;34m(\u001B[0m\u001B[0;34m*\u001B[0m\u001B[0minput\u001B[0m\u001B[0;34m,\u001B[0m \u001B[0;34m**\u001B[0m\u001B[0mkwargs\u001B[0m\u001B[0;34m)\u001B[0m\u001B[0;34m\u001B[0m\u001B[0;34m\u001B[0m\u001B[0m\n\u001B[0m\u001B[1;32m   1072\u001B[0m         \u001B[0;32mif\u001B[0m \u001B[0m_global_forward_hooks\u001B[0m \u001B[0;32mor\u001B[0m \u001B[0mself\u001B[0m\u001B[0;34m.\u001B[0m\u001B[0m_forward_hooks\u001B[0m\u001B[0;34m:\u001B[0m\u001B[0;34m\u001B[0m\u001B[0;34m\u001B[0m\u001B[0m\n\u001B[1;32m   1073\u001B[0m             for hook in itertools.chain(\n",
      "\u001B[0;32m~/anaconda3/envs/Monai/lib/python3.9/site-packages/torch/nn/modules/conv.py\u001B[0m in \u001B[0;36mforward\u001B[0;34m(self, input)\u001B[0m\n\u001B[1;32m    585\u001B[0m \u001B[0;34m\u001B[0m\u001B[0m\n\u001B[1;32m    586\u001B[0m     \u001B[0;32mdef\u001B[0m \u001B[0mforward\u001B[0m\u001B[0;34m(\u001B[0m\u001B[0mself\u001B[0m\u001B[0;34m,\u001B[0m \u001B[0minput\u001B[0m\u001B[0;34m:\u001B[0m \u001B[0mTensor\u001B[0m\u001B[0;34m)\u001B[0m \u001B[0;34m->\u001B[0m \u001B[0mTensor\u001B[0m\u001B[0;34m:\u001B[0m\u001B[0;34m\u001B[0m\u001B[0;34m\u001B[0m\u001B[0m\n\u001B[0;32m--> 587\u001B[0;31m         \u001B[0;32mreturn\u001B[0m \u001B[0mself\u001B[0m\u001B[0;34m.\u001B[0m\u001B[0m_conv_forward\u001B[0m\u001B[0;34m(\u001B[0m\u001B[0minput\u001B[0m\u001B[0;34m,\u001B[0m \u001B[0mself\u001B[0m\u001B[0;34m.\u001B[0m\u001B[0mweight\u001B[0m\u001B[0;34m,\u001B[0m \u001B[0mself\u001B[0m\u001B[0;34m.\u001B[0m\u001B[0mbias\u001B[0m\u001B[0;34m)\u001B[0m\u001B[0;34m\u001B[0m\u001B[0;34m\u001B[0m\u001B[0m\n\u001B[0m\u001B[1;32m    588\u001B[0m \u001B[0;34m\u001B[0m\u001B[0m\n\u001B[1;32m    589\u001B[0m \u001B[0;34m\u001B[0m\u001B[0m\n",
      "\u001B[0;32m~/anaconda3/envs/Monai/lib/python3.9/site-packages/torch/nn/modules/conv.py\u001B[0m in \u001B[0;36m_conv_forward\u001B[0;34m(self, input, weight, bias)\u001B[0m\n\u001B[1;32m    580\u001B[0m                 \u001B[0mself\u001B[0m\u001B[0;34m.\u001B[0m\u001B[0mgroups\u001B[0m\u001B[0;34m,\u001B[0m\u001B[0;34m\u001B[0m\u001B[0;34m\u001B[0m\u001B[0m\n\u001B[1;32m    581\u001B[0m             )\n\u001B[0;32m--> 582\u001B[0;31m         return F.conv3d(\n\u001B[0m\u001B[1;32m    583\u001B[0m             \u001B[0minput\u001B[0m\u001B[0;34m,\u001B[0m \u001B[0mweight\u001B[0m\u001B[0;34m,\u001B[0m \u001B[0mbias\u001B[0m\u001B[0;34m,\u001B[0m \u001B[0mself\u001B[0m\u001B[0;34m.\u001B[0m\u001B[0mstride\u001B[0m\u001B[0;34m,\u001B[0m \u001B[0mself\u001B[0m\u001B[0;34m.\u001B[0m\u001B[0mpadding\u001B[0m\u001B[0;34m,\u001B[0m \u001B[0mself\u001B[0m\u001B[0;34m.\u001B[0m\u001B[0mdilation\u001B[0m\u001B[0;34m,\u001B[0m \u001B[0mself\u001B[0m\u001B[0;34m.\u001B[0m\u001B[0mgroups\u001B[0m\u001B[0;34m\u001B[0m\u001B[0;34m\u001B[0m\u001B[0m\n\u001B[1;32m    584\u001B[0m         )\n",
      "\u001B[0;31mRuntimeError\u001B[0m: Expected 5-dimensional input for 5-dimensional weight [64, 2, 7, 7, 7], but got 4-dimensional input of size [1, 20, 90, 70] instead"
     ]
    }
   ],
   "source": [
    "###### Test mit trainiertem Modell (B) Neue Daten einzeln ins Netz geben\n",
    "\n",
    "# Trainiertes Model wieder Laden (mit Pfad wie oben festgelegt **2)\n",
    "model = Net.load_from_checkpoint(\"/home/wolfda/Clinic_Data/Data/Sarkome_Catharina/Networks/cube/3D_SENet_seg/save/model_A/versuch_0/last.ckpt\") # \"Net\" ist der Name unseres Netzes **1\n",
    "# letzte Epoche: last.ckpt | Besten 2 Epochen: epoch=5-val_loss=1.34.ckpt\n",
    "\n",
    "# Info\n",
    "#print(\"INFO:\", torch.load(\"/home/wolfda/Clinic_Data/Data/Sarkome_Catharina/Networks/3D_DenseNet_PreTrain/save/model_L/versuch_0/info.pt\")) # [model: A,B,C,..], [versuch: 0,1,2,..]\n",
    "\n",
    "# Datensatz Laden\n",
    "val_images_pathes = sorted(glob.glob(os.path.join(val, \"*.pt\"))) \n",
    "val_data_dicts = [\n",
    "            {\"image\": torch.load(path)[\"vol\"].float(), \"label\": torch.load(path)[\"class\"]} #-> Dict(image[1, 150, 256, 256],label[1])\n",
    "            for path in val_images_pathes # LABLES: 0,1\n",
    "        ] \n",
    "\n",
    "# Grad Cam\n",
    "# cam_extractor = SmoothGradCAMpp(model, input_shape = [150, 256, 256])\n",
    "\n",
    "# Namen der Layer:\n",
    "#print(medcam.get_layers(model))\n",
    "\n",
    "# M3d-CAM: gbp (Guided Backpropagation) | gcam (Grad-Cam, default) | ggcam (Guided Grad-Cam) | gcampp (Grad-Cam++)\n",
    "model = medcam.inject(model, output_dir=\"attention_maps\", backend='gcam', label='best', save_maps=True)\n",
    "\n",
    "model.eval()\n",
    "y_hat = model(val_data_dicts[1][\"image\"].unsqueeze(0)) # Das Bild von einem Patienetn ins Netz geben\n",
    "print(\"Pred:\", torch.argmax(y_hat, dim=1)) # Netz gibt Vektor mit 2 Elementen aus -> Größtes Element (größte Wahrschl.) ist die Prädiktion\n",
    "print(\"True:\", val_data_dicts[1][\"label\"])\n",
    "\n",
    "\n",
    "# Grad Cam\n",
    "# activation_map = cam_extractor(torch.argmax(y_hat, dim=1).item(), y_hat)\n",
    "# Visualize the raw CAM\n",
    "# plt.imshow(activation_map.numpy()); plt.axis('off'); plt.tight_layout(); plt.show()"
   ]
  },
  {
   "cell_type": "code",
   "execution_count": 30,
   "id": "70b7cab2-84ac-4ef9-a140-5ff1cca7f908",
   "metadata": {},
   "outputs": [
    {
     "name": "stdout",
     "output_type": "stream",
     "text": [
      "[0.56257256 0.47116231 0.46610867 0.42506351 0.41187014 0.32443057\n",
      " 0.39452626 0.45757903 0.38609821 0.15776348 0.52635411 0.75565878\n",
      " 0.47789543 0.58975455 0.43609235 0.49878674 0.8014901  0.46352414\n",
      " 0.407386   0.59652005 0.85387985 0.45035733 0.33446    0.27830759\n",
      " 0.33824058 0.46090755 0.39662858 0.40307421 0.07635715 0.44285511\n",
      " 0.46347418 0.04358675 0.54022398 0.48662784 0.43130852 0.42398419\n",
      " 0.11017735 0.26529575 0.44813978]\n"
     ]
    },
    {
     "ename": "ValueError",
     "evalue": "continuous format is not supported",
     "output_type": "error",
     "traceback": [
      "\u001B[0;31m---------------------------------------------------------------------------\u001B[0m",
      "\u001B[0;31mValueError\u001B[0m                                Traceback (most recent call last)",
      "\u001B[0;32m<ipython-input-30-ac0b15d0d89a>\u001B[0m in \u001B[0;36m<module>\u001B[0;34m\u001B[0m\n\u001B[1;32m     61\u001B[0m \u001B[0;34m\u001B[0m\u001B[0m\n\u001B[1;32m     62\u001B[0m \u001B[0;31m# AUC\u001B[0m\u001B[0;34m\u001B[0m\u001B[0;34m\u001B[0m\u001B[0;34m\u001B[0m\u001B[0m\n\u001B[0;32m---> 63\u001B[0;31m \u001B[0mfpr\u001B[0m\u001B[0;34m,\u001B[0m \u001B[0mtpr\u001B[0m\u001B[0;34m,\u001B[0m \u001B[0mthresholds\u001B[0m \u001B[0;34m=\u001B[0m \u001B[0mroc_curve\u001B[0m\u001B[0;34m(\u001B[0m\u001B[0mcube_eigen_prob_mean\u001B[0m\u001B[0;34m,\u001B[0m \u001B[0mlable\u001B[0m\u001B[0;34m,\u001B[0m \u001B[0msample_weight\u001B[0m\u001B[0;34m=\u001B[0m\u001B[0;32mNone\u001B[0m\u001B[0;34m)\u001B[0m \u001B[0;31m# Wahrscheinlichkeiten der Klasse die seltener vorkommt\u001B[0m\u001B[0;34m\u001B[0m\u001B[0;34m\u001B[0m\u001B[0m\n\u001B[0m",
      "\u001B[0;32m~/anaconda3/envs/Monai/lib/python3.9/site-packages/sklearn/utils/validation.py\u001B[0m in \u001B[0;36minner_f\u001B[0;34m(*args, **kwargs)\u001B[0m\n\u001B[1;32m     61\u001B[0m             \u001B[0mextra_args\u001B[0m \u001B[0;34m=\u001B[0m \u001B[0mlen\u001B[0m\u001B[0;34m(\u001B[0m\u001B[0margs\u001B[0m\u001B[0;34m)\u001B[0m \u001B[0;34m-\u001B[0m \u001B[0mlen\u001B[0m\u001B[0;34m(\u001B[0m\u001B[0mall_args\u001B[0m\u001B[0;34m)\u001B[0m\u001B[0;34m\u001B[0m\u001B[0;34m\u001B[0m\u001B[0m\n\u001B[1;32m     62\u001B[0m             \u001B[0;32mif\u001B[0m \u001B[0mextra_args\u001B[0m \u001B[0;34m<=\u001B[0m \u001B[0;36m0\u001B[0m\u001B[0;34m:\u001B[0m\u001B[0;34m\u001B[0m\u001B[0;34m\u001B[0m\u001B[0m\n\u001B[0;32m---> 63\u001B[0;31m                 \u001B[0;32mreturn\u001B[0m \u001B[0mf\u001B[0m\u001B[0;34m(\u001B[0m\u001B[0;34m*\u001B[0m\u001B[0margs\u001B[0m\u001B[0;34m,\u001B[0m \u001B[0;34m**\u001B[0m\u001B[0mkwargs\u001B[0m\u001B[0;34m)\u001B[0m\u001B[0;34m\u001B[0m\u001B[0;34m\u001B[0m\u001B[0m\n\u001B[0m\u001B[1;32m     64\u001B[0m \u001B[0;34m\u001B[0m\u001B[0m\n\u001B[1;32m     65\u001B[0m             \u001B[0;31m# extra_args > 0\u001B[0m\u001B[0;34m\u001B[0m\u001B[0;34m\u001B[0m\u001B[0;34m\u001B[0m\u001B[0m\n",
      "\u001B[0;32m~/anaconda3/envs/Monai/lib/python3.9/site-packages/sklearn/metrics/_ranking.py\u001B[0m in \u001B[0;36mroc_curve\u001B[0;34m(y_true, y_score, pos_label, sample_weight, drop_intermediate)\u001B[0m\n\u001B[1;32m    911\u001B[0m \u001B[0;34m\u001B[0m\u001B[0m\n\u001B[1;32m    912\u001B[0m     \"\"\"\n\u001B[0;32m--> 913\u001B[0;31m     fps, tps, thresholds = _binary_clf_curve(\n\u001B[0m\u001B[1;32m    914\u001B[0m         y_true, y_score, pos_label=pos_label, sample_weight=sample_weight)\n\u001B[1;32m    915\u001B[0m \u001B[0;34m\u001B[0m\u001B[0m\n",
      "\u001B[0;32m~/anaconda3/envs/Monai/lib/python3.9/site-packages/sklearn/metrics/_ranking.py\u001B[0m in \u001B[0;36m_binary_clf_curve\u001B[0;34m(y_true, y_score, pos_label, sample_weight)\u001B[0m\n\u001B[1;32m    689\u001B[0m     if not (y_type == \"binary\" or\n\u001B[1;32m    690\u001B[0m             (y_type == \"multiclass\" and pos_label is not None)):\n\u001B[0;32m--> 691\u001B[0;31m         \u001B[0;32mraise\u001B[0m \u001B[0mValueError\u001B[0m\u001B[0;34m(\u001B[0m\u001B[0;34m\"{0} format is not supported\"\u001B[0m\u001B[0;34m.\u001B[0m\u001B[0mformat\u001B[0m\u001B[0;34m(\u001B[0m\u001B[0my_type\u001B[0m\u001B[0;34m)\u001B[0m\u001B[0;34m)\u001B[0m\u001B[0;34m\u001B[0m\u001B[0;34m\u001B[0m\u001B[0m\n\u001B[0m\u001B[1;32m    692\u001B[0m \u001B[0;34m\u001B[0m\u001B[0m\n\u001B[1;32m    693\u001B[0m     \u001B[0mcheck_consistent_length\u001B[0m\u001B[0;34m(\u001B[0m\u001B[0my_true\u001B[0m\u001B[0;34m,\u001B[0m \u001B[0my_score\u001B[0m\u001B[0;34m,\u001B[0m \u001B[0msample_weight\u001B[0m\u001B[0;34m)\u001B[0m\u001B[0;34m\u001B[0m\u001B[0;34m\u001B[0m\u001B[0m\n",
      "\u001B[0;31mValueError\u001B[0m: continuous format is not supported"
     ]
    }
   ],
   "source": []
  },
  {
   "cell_type": "code",
   "execution_count": 31,
   "id": "546c16b4-1910-4084-a60d-338730b15353",
   "metadata": {},
   "outputs": [
    {
     "data": {
      "image/png": "[encoded data removed]",
      "text/plain": [
       "<Figure size 1080x648 with 1 Axes>"
      ]
     },
     "metadata": {
      "needs_background": "light"
     },
     "output_type": "display_data"
    }
   ],
   "source": []
  },
  {
   "cell_type": "code",
   "execution_count": null,
   "id": "4f16d502-f8cd-494b-85b9-9423db47557b",
   "metadata": {},
   "outputs": [],
   "source": []
  }
 ],
 "metadata": {
  "kernelspec": {
   "display_name": "Python 3 (ipykernel)",
   "language": "python",
   "name": "python3"
  },
  "language_info": {
   "codemirror_mode": {
    "name": "ipython",
    "version": 3
   },
   "file_extension": ".py",
   "mimetype": "text/x-python",
   "name": "python",
   "nbconvert_exporter": "python",
   "pygments_lexer": "ipython3",
   "version": "3.9.5"
  }
 },
 "nbformat": 4,
 "nbformat_minor": 5
}