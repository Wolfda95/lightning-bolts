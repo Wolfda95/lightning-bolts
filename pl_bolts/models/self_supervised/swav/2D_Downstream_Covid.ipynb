{
 "cells": [
  {
   "cell_type": "code",
   "execution_count": 1,
   "id": "97dc417f-4758-4de2-ad74-24752f3ca7ea",
   "metadata": {
    "pycharm": {
     "name": "#%%\n"
    }
   },
   "outputs": [
    {
     "name": "stdout",
     "output_type": "stream",
     "text": [
      "MONAI version: 0.6.0\n",
      "Numpy version: 1.20.2\n",
      "Pytorch version: 1.9.0\n",
      "MONAI flags: HAS_EXT = False, USE_COMPILED = False\n",
      "MONAI rev id: 0ad9e73639e30f4f1af5a1f4a45da9cb09930179\n",
      "\n",
      "Optional dependencies:\n",
      "Pytorch Ignite version: 0.4.5\n",
      "Nibabel version: 3.0.2\n",
      "scikit-image version: 0.18.3\n",
      "Pillow version: 8.2.0\n",
      "Tensorboard version: 2.2.0\n",
      "gdown version: 3.10.1\n",
      "TorchVision version: 0.2.2\n",
      "ITK version: NOT INSTALLED or UNKNOWN VERSION.\n",
      "tqdm version: 4.61.1\n",
      "lmdb version: 1.2.1\n",
      "psutil version: 5.8.0\n",
      "pandas version: 1.2.4\n",
      "einops version: NOT INSTALLED or UNKNOWN VERSION.\n",
      "\n",
      "For details about installing the optional dependencies, please visit:\n",
      "    https://docs.monai.io/en/latest/installation.html#installing-the-recommended-dependencies\n",
      "\n"
     ]
    }
   ],
   "source": [
    "from monai.utils import set_determinism\n",
    "from monai.transforms import (\n",
    "    AsDiscrete,\n",
    "    AddChanneld,\n",
    "    Compose,\n",
    "    CropForegroundd,\n",
    "    LoadImaged,\n",
    "    Orientationd,\n",
    "    RandCropByPosNegLabeld,\n",
    "    ScaleIntensityRanged,\n",
    "    Spacingd,\n",
    "    ToTensord,\n",
    "    Activations,\n",
    "    LoadImage,\n",
    "    RandFlip,\n",
    "    RandRotate,\n",
    "    RandZoom,\n",
    "    ScaleIntensity,\n",
    "    EnsureType,\n",
    "    AddChannel,\n",
    "    Transpose,\n",
    "    AsChannelFirst,\n",
    ")\n",
    "from monai.networks.nets import DenseNet\n",
    "from monai.networks.nets import DenseNet121 # bei dim2 mit Pretrain\n",
    "from monai.networks.nets import SEResNet50\n",
    "\n",
    "from monai.networks.layers import Norm\n",
    "from monai.metrics import compute_meandice\n",
    "from monai.losses import DiceLoss\n",
    "from monai.inferers import sliding_window_inference\n",
    "from monai.data import Dataset, list_data_collate\n",
    "from monai.config import print_config\n",
    "from monai.apps import download_and_extract\n",
    "import torch\n",
    "import pytorch_lightning\n",
    "from pytorch_lightning.callbacks.model_checkpoint \\\n",
    "    import ModelCheckpoint\n",
    "\n",
    "# weiteres:\n",
    "import matplotlib.pyplot as plt\n",
    "import tempfile\n",
    "import shutil\n",
    "import os\n",
    "import glob\n",
    "import numpy as np\n",
    "import matplotlib.pyplot as plt\n",
    "import PIL\n",
    "import torch\n",
    "import numpy as np\n",
    "\n",
    "# GRAD CAM Versuch 1\n",
    "from torchcam.cams import SmoothGradCAMpp\n",
    "from torchvision.transforms.functional import normalize, resize, to_pil_image\n",
    "\n",
    "# GRAD CAM Versuch 2\n",
    "from medcam import medcam\n",
    "from IPython.display import Image\n",
    "\n",
    "# Output Metriken\n",
    "from sklearn.metrics import confusion_matrix, precision_score, classification_report, ConfusionMatrixDisplay, precision_recall_curve, PrecisionRecallDisplay, roc_curve, auc, plot_roc_curve, RocCurveDisplay\n",
    "from sklearn import preprocessing\n",
    "\n",
    "from torchsummary import summary # Größe des Netzes anzeigen\n",
    "\n",
    "# Dataloader\n",
    "from PT_Dataset import TorchDataset # eigenes Python File (PT_Dataset.py) zum Daten laden \n",
    "# ACHTUNG: Anpaassen ob schon unsqueez(0) und .float schon vor dem Speichern der Daten gemacht wurde oder nicht \n",
    "\n",
    "# ResNet Model\n",
    "import swav_resnet as resnet_models\n",
    "\n",
    "# Weights & Biasis\n",
    "from pytorch_lightning.loggers import WandbLogger # weights and biases logger\n",
    "\n",
    " # importing cv2 \n",
    "import cv2 \n",
    "\n",
    "from logging import getLogger\n",
    "logger = getLogger()\n",
    "\n",
    "# Config von monai (welche Version)\n",
    "print_config()\n"
   ]
  },
  {
   "cell_type": "code",
   "execution_count": 2,
   "id": "dbcb9e80-9a0e-4a83-9923-1f1ffd7df907",
   "metadata": {
    "pycharm": {
     "name": "#%%\n"
    }
   },
   "outputs": [
    {
     "name": "stdout",
     "output_type": "stream",
     "text": [
      "/home/wolfda/Clinic_Data/Challenge/CT_PreTrain/Challenge_COVID-19-20_v2/Data/2D/Results\n",
      "Daten: /home/wolfda/Clinic_Data/Challenge/CT_PreTrain/Challenge_COVID-19-20_v2/Data/2D/Half_AlleSeg Model: swav_CovidHalfKlein_downstream | Versuch: Domain_SwAV_E567_AllSeg_bs16_lr-4_Aug | Epochen: 20 | Learning Rate: 0.0001 | Train Bs: 16 | loss: CrossEntropyLoss() | Optimizer: Adam\n"
     ]
    }
   ],
   "source": [
    "# FESTLEGEN\n",
    "\n",
    "# Ordner wo die Ergebnisse gespeichert werden\n",
    "root_dir = \"/home/wolfda/Clinic_Data/Challenge/CT_PreTrain/Challenge_COVID-19-20_v2/Data/2D/Results\"\n",
    "print(root_dir)\n",
    "\n",
    "# Ordner wo die Daten liegen \n",
    "data_dir = \"/home/wolfda/Clinic_Data/Challenge/CT_PreTrain/Challenge_COVID-19-20_v2/Data/2D/Half_AlleSeg\"\n",
    "\n",
    "# Vortrainierte Gewichte des resNet models\n",
    "pretrained_weights = \"/home/wolfda/Clinic_Data/Challenge/CT_PreTrain/PreTrain_Gesamt/Results/Neu/Domain_SwAV__LIDC-MSD-CQ500-AutoPET_lr-5_2/epoch=567-train_loss=2.18.ckpt\"#\"/home/wolfda/Clinic_Data/Challenge/CT_PreTrain/ImageNet/swav_800ep_pretrain.pth.tar\" #\"/home/wolfda/Clinic_Data/Challenge/CT_PreTrain/PreTrain_Gesamt/Results/Neu/Domain_SwAV__LIDC-MSD-CQ500-AutoPET_lr-5_2/epoch=1682-train_loss=2.13.ckpt\" #\"/home/wolfda/Clinic_Data/Challenge/CT_PreTrain/PreTrain_Gesamt/Results/Neu/IM_SwAV_Domain_SwAV__LIDC-MSD-CQ500-AutoPET_lr-5/epoch=1439-train_loss=2.08.ckpt\" #\"/home/wolfda/Clinic_Data/Challenge/CT_PreTrain/ImageNet/swav_800ep_pretrain.pth.tar\" \n",
    "# Festlegen\n",
    "Model = \"swav_CovidHalfKlein_downstream\"  # NEUES MODEL: zählen A,B;C,..\n",
    "Versuch = \"Domain_SwAV_E567_AllSeg_bs16_lr-4_Aug\" #\"IM_Supervised_ValTest\"  #\"Domain_SwAV_lr-5_E559_seed0\"  #\"Scratch_Seed0\" #\"IM_SwAV_Domain_SwAV_lr-5_E567_seed0\"  \n",
    "wandb_tag= [\"LIDC-MSD-CQ500_AutoPET\"] #[\"Monai_SEResNet\"] #[\"SwAV-Resnet\"]#[\"LIDC-MSD-CQ500_AutoPET\"]\n",
    "# Speicherort Model: save - model*[A,B,C,..] - Versuch*[0,1,2,...]_epoch* - last.ckpt || TB logs: save - model*[A,B,C,..] - logs - default - version*[0,1,2,...]\n",
    "Epochen = 20 # Wieviele Epochen \n",
    "lr = 1e-4 # Learning rate\n",
    "dp_mlp = 0.0 # Dropout prob[0-1]\n",
    "bs = 16 # Batch Size Training\n",
    "# Loss gewichten (Bei welcher klasse sollen fehler stärker bestraft werden)\n",
    "loss = torch.nn.CrossEntropyLoss() # NLLLoss() falls Netz schon softmax macht | CrossEntropyLoss() falls Netz noch keine Softmax macht  || in (): weight=torch.FloatTensor([0.3,0.7])\n",
    "optim = \"Adam\" # Optimizer \n",
    "freeze_encoder = False #######################################################################################################################\n",
    "\n",
    "print(\"Daten:\", data_dir, \"Model:\", Model, \"| Versuch:\", Versuch, \"| Epochen:\", Epochen, \"| Learning Rate:\", lr,  \"| Train Bs:\", bs,\"| loss:\", loss, \"| Optimizer:\", optim)\n",
    "\n",
    "info={\"Path\": root_dir, \"Daten\": data_dir, \"weights\": pretrained_weights, \"Model\": Model, \"Versuch\": Versuch, \"Epochen\": Epochen, \"Learning Rate\": lr,  \"Train Bs\": bs, \"loss\": loss, \"Optimizer\": optim}"
   ]
  },
  {
   "cell_type": "code",
   "execution_count": 3,
   "id": "289af635-fee3-4020-9fbd-846838d08dc3",
   "metadata": {
    "pycharm": {
     "name": "#%%\n"
    }
   },
   "outputs": [
    {
     "name": "stdout",
     "output_type": "stream",
     "text": [
      "Total image count: 8196\n",
      "Image dimensions: 256 x 512\n",
      "Label names: ['0_noCovid', '1_Covid']\n",
      "Label names: 2\n",
      "Label counts: [3237, 4959]\n"
     ]
    }
   ],
   "source": [
    "# Read image filenames from the dataset folders\n",
    "\n",
    "class_names = sorted(x for x in os.listdir(data_dir)\n",
    "                     if os.path.isdir(os.path.join(data_dir, x)))\n",
    "num_class = len(class_names)\n",
    "image_files = [\n",
    "    [\n",
    "        os.path.join(data_dir, class_names[i], x)\n",
    "        for x in os.listdir(os.path.join(data_dir, class_names[i]))\n",
    "    ]\n",
    "    for i in range(num_class)\n",
    "]\n",
    "num_each = [len(image_files[i]) for i in range(num_class)]\n",
    "image_files_list = []\n",
    "image_class = []\n",
    "for i in range(num_class):\n",
    "    image_files_list.extend(image_files[i])\n",
    "    image_class.extend([i] * num_each[i])\n",
    "num_total = len(image_class)\n",
    "image_width, image_height = PIL.Image.open(image_files_list[0]).size\n",
    "\n",
    "n_classes = len(class_names)\n",
    "\n",
    "print(f\"Total image count: {num_total}\")\n",
    "print(f\"Image dimensions: {image_width} x {image_height}\")\n",
    "print(f\"Label names: {class_names}\")\n",
    "print(f\"Label names: {n_classes}\")\n",
    "print(f\"Label counts: {num_each}\")"
   ]
  },
  {
   "cell_type": "code",
   "execution_count": 4,
   "id": "2e1d12da-26cb-4e2c-a731-7f06422aedaf",
   "metadata": {
    "pycharm": {
     "name": "#%%\n"
    }
   },
   "outputs": [
    {
     "name": "stdout",
     "output_type": "stream",
     "text": [
      "(512, 256, 3)\n",
      "(512, 256, 3)\n",
      "(512, 256, 3)\n",
      "(512, 256, 3)\n",
      "(512, 256, 3)\n",
      "(512, 256, 3)\n",
      "(512, 256, 3)\n",
      "(512, 256, 3)\n",
      "(512, 256, 3)\n"
     ]
    },
    {
     "data": {
      "image/png": "[encoded data removed]",
      "text/plain": [
       "<Figure size 576x576 with 9 Axes>"
      ]
     },
     "metadata": {
      "needs_background": "light"
     },
     "output_type": "display_data"
    }
   ],
   "source": [
    "# Visualization check (Braucht man nicht unbedingt)\n",
    "plt.subplots(3, 3, figsize=(8, 8))\n",
    "for i, k in enumerate(np.random.randint(num_total, size=9)):\n",
    "    im = PIL.Image.open(image_files_list[k])\n",
    "    arr = np.array(im)\n",
    "    #arr = cv2.cvtColor(arr,cv2.COLOR_GRAY2RGB) # macht 3 Channel (3 mal das gleiche) \n",
    "    plt.subplot(3, 3, i + 1)\n",
    "    plt.xlabel(class_names[image_class[k]])\n",
    "    plt.imshow(arr, cmap=\"gray\", vmin=0, vmax=255)\n",
    "    print(arr.shape)\n",
    "plt.tight_layout()\n",
    "plt.show()"
   ]
  },
  {
   "cell_type": "code",
   "execution_count": 5,
   "id": "5f3ba2b3-313b-474a-96f5-7efedd250641",
   "metadata": {
    "pycharm": {
     "name": "#%%\n"
    }
   },
   "outputs": [
    {
     "name": "stdout",
     "output_type": "stream",
     "text": [
      "Reduce Train: 100 %\n",
      "Training count: 4918, Validation count: 1639, Test count: 1639\n"
     ]
    }
   ],
   "source": [
    "# Train, Val, Test \n",
    "\n",
    "reduce_train = 1 # % of Dataset [1 wenn alle Daten] (Nur Train wird verkleinert; Val, Test bleiben konstant)\n",
    "\n",
    "val_frac = 0.2 # % Validation\n",
    "test_frac = 0.2 # % Test\n",
    "length = len(image_files_list)\n",
    "indices = np.arange(length)\n",
    "np.random.seed(0) # Bei jedem Run genau die gleichen gleichen Bilder in train, val, test\n",
    "np.random.shuffle(indices)\n",
    "\n",
    "test_split = int(test_frac * length) # Länge Test\n",
    "val_split = int(val_frac * length) + test_split # Länge Val + Test\n",
    "train = (length - val_split) * reduce_train # Länge Train: (GesamtLänge - Länge Länge Val,Test)* Reduce_Data\n",
    "test_indices = indices[:test_split]\n",
    "val_indices = indices[test_split:val_split]\n",
    "train_indices = indices[val_split:(int(train)+val_split)]\n",
    "\n",
    "train_x = [image_files_list[i] for i in train_indices]\n",
    "train_y = [image_class[i] for i in train_indices]\n",
    "val_x = [image_files_list[i] for i in val_indices]\n",
    "val_y = [image_class[i] for i in val_indices]\n",
    "test_x = [image_files_list[i] for i in test_indices]\n",
    "test_y = [image_class[i] for i in test_indices]\n",
    "\n",
    "print(\"Reduce Train:\", reduce_train*100, \"%\" )\n",
    "print(\n",
    "    f\"Training count: {len(train_x)}, Validation count: \"\n",
    "    f\"{len(val_x)}, Test count: {len(test_x)}\")"
   ]
  },
  {
   "cell_type": "code",
   "execution_count": 6,
   "id": "828f5fa3-8886-47b0-9c39-62c5cbccbdad",
   "metadata": {
    "pycharm": {
     "name": "#%%\n"
    }
   },
   "outputs": [],
   "source": [
    "# Transforms\n",
    "\n",
    "train_transforms = Compose(\n",
    "    [\n",
    "        LoadImage(image_only=True),\n",
    "        #AddChannel(),\n",
    "        AsChannelFirst(channel_dim=- 1),\n",
    "        ScaleIntensity(),\n",
    "        RandRotate(range_x=np.pi / 12, prob=0.5, keep_size=True),\n",
    "        RandFlip(spatial_axis=0, prob=0.5),\n",
    "        #RandZoom(min_zoom=0.9, max_zoom=1.1, prob=0.5),\n",
    "        EnsureType(),\n",
    "    ]\n",
    ")\n",
    "\n",
    "val_transforms = Compose(\n",
    "    [LoadImage(image_only=True), AsChannelFirst(channel_dim=- 1), ScaleIntensity(), EnsureType()])\n",
    "\n",
    "y_pred_trans = Compose([EnsureType(), Activations(softmax=True)])\n",
    "y_trans = Compose([EnsureType(), AsDiscrete(to_onehot=num_class)])"
   ]
  },
  {
   "cell_type": "code",
   "execution_count": 7,
   "id": "82a585c9-0609-4178-8dde-778e680167d9",
   "metadata": {
    "pycharm": {
     "name": "#%%\n"
    }
   },
   "outputs": [],
   "source": [
    "# PT Dataset\n",
    "\n",
    "class MedNISTDataset(torch.utils.data.Dataset):\n",
    "    def __init__(self, image_files, labels, transforms):\n",
    "        self.image_files = image_files\n",
    "        self.labels = labels\n",
    "        self.transforms = transforms\n",
    "\n",
    "    def __len__(self):\n",
    "        return len(self.image_files)\n",
    "\n",
    "    def __getitem__(self, index):\n",
    "        return self.transforms(self.image_files[index]), self.labels[index]"
   ]
  },
  {
   "cell_type": "code",
   "execution_count": 8,
   "id": "b4d66054-ccc3-4cda-aab3-32ab85775822",
   "metadata": {
    "pycharm": {
     "name": "#%%\n"
    }
   },
   "outputs": [
    {
     "name": "stdout",
     "output_type": "stream",
     "text": [
      "key \"projection_head.weight\" could not be found in provided state dict\n",
      "key \"projection_head.bias\" could not be found in provided state dict\n",
      "Load pretrained model with msg: _IncompatibleKeys(missing_keys=['projection_head.weight', 'projection_head.bias'], unexpected_keys=['prototypes.weight', 'projection_head.0.weight', 'projection_head.0.bias', 'projection_head.1.weight', 'projection_head.1.bias', 'projection_head.1.running_mean', 'projection_head.1.running_var', 'projection_head.1.num_batches_tracked', 'projection_head.3.weight', 'projection_head.3.bias'])\n"
     ]
    }
   ],
   "source": [
    "\n",
    "# Modell Laden -----------------------------------------------------------------------------\n",
    "\n",
    "# Mögl1:\n",
    "# -> Vortrainiertes MLP von SwAV + Eigenes MLP um auf Anzahl Klassen zu kommen\n",
    "#res_model = resnet_models.__dict__[\"resnet50\"](hidden_mlp=2048, output_dim=128) # wurde oben importiert  \n",
    "# -> hidden_mlp=self.hidden_mlp=2048, output_dim=128 Gleiche Einstellungen wie beim PreTrain\n",
    "# -> Output Netz: 128\n",
    "\n",
    "# # Mögl2:\n",
    "# -> Ohne Vortrainiertes MLP von SwAV, hängt einfach ein einzelnes Linear Layer dran um auf Anzahl Klassen zu kommen \n",
    "res_model = resnet_models.__dict__[\"resnet50\"](output_dim=n_classes)\n",
    "# -> unten: x = self.mlp(x) weg!!!!!!!!!!!!!\n",
    "\n",
    "# SEResNet50 Monai (ImageNet PreTrain)\n",
    "#res_model = SEResNet50(spatial_dims=2, in_channels=3, layers=(3, 4, 6, 3), groups=1, reduction=16, dropout_prob=0.0, inplanes=64, downsample_kernel_size=1, input_3x3=False, pretrained=True, progress=True, num_classes=n_classes)\n",
    "\n",
    "# Geht nicht: \n",
    "# convert batch norm layers\n",
    "#res_model = torch.nn.SyncBatchNorm.convert_sync_batchnorm(res_model)\n",
    "\n",
    "\n",
    "# Vortrainierte Gewichte Laden --------------------------------------------------------------------------------\n",
    "state_dict = torch.load(pretrained_weights)  #pretrained_weights\n",
    "if \"state_dict\" in state_dict:\n",
    "    state_dict = state_dict[\"state_dict\"]\n",
    "    \n",
    "# remove prefixe \"module.\" or \"model.\"\n",
    "#Checkpoints als 'model.conv1.weight' gespeichert und Netzs als 'conv1.weight' -> model. entfernen\n",
    "state_dict = {k.replace(\"model.\", \"\"): v for k, v in state_dict.items()} # Meine Checkpoints (model)\n",
    "#state_dict = {k.replace(\"module.\", \"\"): v for k, v in state_dict.items()} # ImageNet PreTrian von swav (module) \n",
    "#print(state_dict.items())\n",
    "\n",
    "for k, v in res_model.state_dict().items():\n",
    "    if k not in list(state_dict):\n",
    "        print('key \"{}\" could not be found in provided state dict'.format(k))\n",
    "    elif state_dict[k].shape != v.shape:\n",
    "        print('key \"{}\" is of different shape in model and provided state dict'.format(k))\n",
    "        state_dict[k] = v\n",
    "msg = res_model.load_state_dict(state_dict, strict=False)\n",
    "print(\"Load pretrained model with msg: {}\".format(msg))\n",
    "\n"
   ]
  },
  {
   "cell_type": "code",
   "execution_count": 9,
   "id": "fd24659a-dcb5-4b00-9b8b-8a627e50448d",
   "metadata": {},
   "outputs": [],
   "source": [
    "class Net(pytorch_lightning.LightningModule): # Name: Net **1\n",
    "    \n",
    "    # Netz + Loss definieren\n",
    "    def __init__(self):\n",
    "        super().__init__()\n",
    "        \n",
    "        # PreTrained Model\n",
    "        self.model = res_model\n",
    "        # Output: bs,128\n",
    "        \n",
    "#         # MLP Classifier\n",
    "#         self.mlp = torch.nn.Sequential(\n",
    "#                 #Flatten(),\n",
    "#                 torch.nn.Dropout(p=dp_mlp),\n",
    "#                 torch.nn.Linear(128, 64, bias=False), # Output von PreTrained Netz ist 128!!!!!!!!!!!!!!!!!!!!!!!!\n",
    "#                 torch.nn.BatchNorm1d(64),\n",
    "#                 torch.nn.ReLU(inplace=True),\n",
    "#                 torch.nn.Dropout(p=dp_mlp),\n",
    "#                 torch.nn.Linear(64, n_classes, bias=True),\n",
    "#             )\n",
    "        \n",
    "        # Loss\n",
    "        self.loss_function = loss \n",
    "        \n",
    "        # FREEZE ENCODER:  Muss hier definiert werden \n",
    "        if freeze_encoder:\n",
    "            self.freeze_encoder() \n",
    "\n",
    "    def forward(self, x):\n",
    "        \n",
    "        x = self.model(x)\n",
    "        \n",
    "        # Nur bei Mögl1: (mit Vortrainiertem MLP + eigenem MLP)\n",
    "        #x = self.mlp(x) \n",
    "\n",
    "        return x\n",
    "    \n",
    "    # FREEZE ENCODER:  Encoder freezen \n",
    "    def freeze_encoder(self):\n",
    "        print(\"freeze_encoder\")\n",
    "        ct = 0\n",
    "        for child in self.model.children():   \n",
    "            ct += 1  \n",
    "            if ct < 6: # Freezes Layer 0 to 9 \n",
    "                for param in child.parameters(): \n",
    "#                     print(\"NO GRAD\")\n",
    "#                     print(\"Number\", ct)\n",
    "#                     print(\"-----------------------------------------------------------------------------------------------\")\n",
    "#                     print(child)\n",
    "                    param.requires_grad = False       \n",
    "        print(ct)\n",
    "    \n",
    "    # Geht hier vor dem Run rein \n",
    "    def on_fit_start(self):\n",
    "        #print(\"on_fit_start\")\n",
    "        if freeze_encoder:\n",
    "            self.freeze_encoder() # FREEZE ENCODER: Ruft die Methode freeze_encoder auf\n",
    "\n",
    "\n",
    "    def prepare_data(self):\n",
    "        \n",
    "        set_determinism(seed=0)\n",
    "        # Erstellt Dataset (Pfad in dem alle Bilder + lable liegen ([vol, class]) übergeben)\n",
    "        self.train_ds = MedNISTDataset(train_x, train_y, train_transforms)\n",
    "        self.val_ds = MedNISTDataset(val_x, val_y, val_transforms)\n",
    "        self.test_ds = MedNISTDataset(test_x, test_y, val_transforms)\n",
    "        \n",
    "    def train_dataloader(self):\n",
    "        train_loader = torch.utils.data.DataLoader(self.train_ds, batch_size=bs, shuffle=True, num_workers=10)\n",
    "        print(\"Train Data Loader | Bs:\", bs, \"| len\",  len(train_loader), \"| ges\", bs*len(train_loader))\n",
    "        return train_loader\n",
    "\n",
    "    def val_dataloader(self):\n",
    "        val_loader = torch.utils.data.DataLoader(self.val_ds, batch_size=1, num_workers=10)\n",
    "        print(\"Val Data Loader\", len(val_loader))\n",
    "        return val_loader\n",
    "    \n",
    "    def test_dataloader(self): \n",
    "        test_loader = torch.utils.data.DataLoader(self.test_ds, batch_size=1, num_workers=10)\n",
    "        print(\"Test Data Loader\", len(test_loader))\n",
    "        return test_loader\n",
    "\n",
    "    def configure_optimizers(self):\n",
    "        if optim == \"Adam\":\n",
    "            optimizer = torch.optim.Adam(self.parameters(), lr)\n",
    "        return optimizer\n",
    "\n",
    "    def training_step(self, batch, batch_idx): # batch: PT Dataset\n",
    "        images, labels= batch \n",
    "        #print(\"Training\", images.shape, labels.shape)\n",
    "        \n",
    "        output = self.forward(images) \n",
    "        #print(\"Train Outputs\", output)\n",
    "        #print(\"Train Labels\", labels)\n",
    "        \n",
    "        loss = self.loss_function(output, labels) # cross entropy Loss\n",
    "        tensorboard_logs = {\"train_loss\": loss.item()}\n",
    "\n",
    "        return {\"loss\": loss, \"log\": tensorboard_logs}\n",
    "    \n",
    "    def training_epoch_end(self, outputs): # outputs = Elemente im train Dataset  x {\"loss\": loss, \"log\": tensorboard_logs}\n",
    "        #print(\"All Train Losses\", outputs)\n",
    "        train_loss, num_items = 0, 0\n",
    "        \n",
    "        for output in outputs: # Durchläuft alle elemete im train Dataset \n",
    "            #print(\"Nummer:\", num_items)\n",
    "            \n",
    "            #print(\"Train Loss\", output[\"loss\"].sum().item())\n",
    "            train_loss += output[\"loss\"].sum().item() # Alle Losse aufaddieren \n",
    "            num_items += 1\n",
    "            \n",
    "        mean_train_loss = torch.tensor(train_loss / num_items) # mittlerer Loss\n",
    "        #print(\"Train Loss Mean\", mean_train_loss)\n",
    "        \n",
    "        tensorboard_logs = {\n",
    "            \"training_loss\": mean_train_loss,\n",
    "        }\n",
    "        \n",
    "        return {\"log\": tensorboard_logs}\n",
    "    \n",
    "\n",
    "    def validation_step(self, batch, batch_idx): # batch: von Data Loader\n",
    "        images, labels= batch # [1, 1, 48, 256, 256], [1] \n",
    "        #print(\"Val\", images.shape, labels.shape)\n",
    "        \n",
    "        #images = torch.rand(1,20,512,512).cuda()\n",
    "        \n",
    "        outputs = self.forward(images) # [4]\n",
    "        #print(\"Val Outputs\", outputs)\n",
    "        #print(\"Val Labels\", labels)\n",
    "        \n",
    "        klasse = torch.argmax(outputs, dim=1)\n",
    "        \n",
    "        loss = self.loss_function(outputs, labels)\n",
    "        \n",
    "        return {\"val_loss\": loss, \"lable\": labels, \"klasse\": klasse}\n",
    "\n",
    "    def validation_epoch_end(self, outputs): # outputs = Elemente im Val Dataset x {\"val_loss\": loss}\n",
    "        #print(\"All Val Losses\", outputs)\n",
    "        val_loss, num_items, true, false = 0, 0, 0, 0 \n",
    "        \n",
    "        \n",
    "        for output in outputs: # Durchläuft alle elemete im Val Dataset \n",
    "            #print(\"Nummer:\", num_items)\n",
    "            \n",
    "            #print(\"Val Loss\", output[\"val_loss\"].sum().item())\n",
    "            val_loss += output[\"val_loss\"].sum().item() # Alles Losse aufaddieren \n",
    "            num_items += 1\n",
    "            \n",
    "            if output[\"klasse\"] == output[\"lable\"]: # wenn Index mit höchster Wahrschl. == richtige Klasse -> richtig klassifiziert\n",
    "                true += 1\n",
    "            else:\n",
    "                false += 1\n",
    "            \n",
    "        mean_val_loss = torch.tensor(val_loss / num_items) # mittlerer Loss\n",
    "        #print(\"Val Loss Mean\", mean_val_loss)\n",
    "        \n",
    "        # Accurancy\n",
    "        acc = torch.tensor(true / num_items)\n",
    "        \n",
    "        tensorboard_logs = {\n",
    "            \"val_loss\": mean_val_loss,\n",
    "            \"val_accuracy\": acc\n",
    "        }\n",
    "        \n",
    "        return {\"log\": tensorboard_logs}\n",
    "    \n",
    "    def test_step(self, batch, batch_idx): # batch: von Data Loader\n",
    "        images, labels = batch # [1, 1, 48, 256, 256], [1] \n",
    "        #print(\"Test\", images.shape, labels.shape)\n",
    "        \n",
    "        outputs = self.forward(images) # [4]\n",
    "        outputs = torch.nn.functional.softmax(outputs)\n",
    "        #print(\"Test Outputs\", outputs.shape)\n",
    "        #print(\"Test Labels\", labels.shape)\n",
    "        \n",
    "        klasse = torch.argmax(outputs, dim=1)\n",
    "        #print(\"Test Predict\", klasse)\n",
    "        \n",
    "        loss = self.loss_function(outputs, labels)\n",
    "        #print(\"Test Loss\", loss.item())\n",
    "        \n",
    "        return {\"test_loss\": loss, \"output\": outputs, \"lable\": labels, \"klasse\": klasse} \n",
    "    \n",
    "    def test_epoch_end(self, outputs): # outputs = Elemente im Val Dataset  x {\"test_loss\": loss, \"output\": outputs, \"lable\": labels, \"klasse\": klasse, \"Name\": name}\n",
    "        #print(\"All Test Losses\", outputs)\n",
    "        \n",
    "        test_loss, true, false, num_items = 0, 0, 0, 0\n",
    "        \n",
    "        output_list = np.array([])\n",
    "        lable_list = np.array([])\n",
    "        output_prob_1 = np.array([])\n",
    "        output_prob_0 = np.array([])\n",
    "        output_prob = np.array([])\n",
    "        \n",
    "        i = 0\n",
    "        for output in outputs: # Durchläuft alle elemete im Test Dataset \n",
    "            #print(\"Nummer:\", num_items)\n",
    "            \n",
    "            #print(\"Test Loss\", output[\"test_loss\"])\n",
    "            test_loss += output[\"test_loss\"] # alles Losse aufadieren\n",
    "            num_items += 1\n",
    "            \n",
    "            output_hold = output[\"klasse\"].cpu().detach()\n",
    "            #print(output_hold)\n",
    "            lable_hold = output[\"lable\"].cpu().detach()\n",
    "            #print(lable_hold)\n",
    "            output_prob_hold = output[\"output\"].cpu().detach()\n",
    "            \n",
    "            output_list = np.append(output_list, output_hold) # Predicted Class 0...5\n",
    "            lable_list = np.append(lable_list, lable_hold) # Lable Class 0...5\n",
    "\n",
    "            \n",
    "            #print(output[\"Name\"])\n",
    "            #print(\"Test Output\", output[\"klasse\"]) # One hot (hier nicht nötig: torch.nn.functional.one_hot(output[\"klasse\"], 2))\n",
    "            #print(\"Test Lable\", output[\"lable\"])\n",
    "            \n",
    "            if output[\"klasse\"] == output[\"lable\"]: # wenn Index mit höchster Wahrschl. == richtige Klasse -> richtig klassifiziert\n",
    "                true += 1\n",
    "            else:\n",
    "                false += 1\n",
    "            i+=1\n",
    "        \n",
    "        # __________ DOKU ____________________________\n",
    "        \n",
    "        # Output Networtk, Lables\n",
    "\n",
    "        \n",
    "        # Anzahl richtig klassifiezert\n",
    "        print(\"\\n\" + \"True\", true) \n",
    "        print(\"False\", false)\n",
    "        \n",
    "        # Accurancy\n",
    "        acc = torch.tensor(true / num_items) \n",
    "        print(\"\\n\" + \"acc\", acc)\n",
    "        \n",
    "        # Mean Loss\n",
    "        mean_test_loss = torch.tensor(test_loss / num_items) # mittlerer Loss\n",
    "        #print(\"\\n\" + \"mean_loss\", mean_test_loss)\n",
    "        \n",
    "        # Confusion Matrix (output_list, lable_list: torch tensors mit den ausgaben des Netztes und den Lablen für alle Patienten in Testset)\n",
    "        #print(\"\\n\" + \"Confution Matrix\")\n",
    "        cm = confusion_matrix(lable_list, output_list)\n",
    "        #print(cm)\n",
    "        \n",
    "        # Precision\n",
    "        #print(\"\\n\" + \"Precision Score Classes: \")\n",
    "        # print(list(preprocessing.LabelEncoder.classes_))\n",
    "        score01 = precision_score(lable_list, output_list, average=None)\n",
    "        print(\"precision_score\", score01)\n",
    "        \n",
    "        # Report: Precision, Recall, F-Score\n",
    "        print(\"\\n\" +\"Classification Report: \")\n",
    "        score01 = classification_report(lable_list, output_list)\n",
    "        print(score01)\n",
    "        \n",
    "        # Display Confusion Matric nicer\n",
    "        disp = ConfusionMatrixDisplay(confusion_matrix=cm,)\n",
    "        disp.plot(cmap=\"Blues\")\n",
    "        \n",
    "        # Sensitivity = true positive rate = TruePositive / (TruePositive + FalseNegative); Specificity = TrueNegative / (FalsePositive + TrueNegative)\n",
    "        # G-Mean = sqrt(Sensitivity * Specificity), Geometric Mean will seek a balance between the sensitivity and the specificity\n",
    "        # fpr(=false positive rate), tpr(=true positive rate =Sensitivity) , thresholds (differtent thresholds [normal: <0.5=0; >0.5=1] jetzt 0.1 0.2 0.3 ... bei denen die fpr und tps gemessen wird)\n",
    "        \n",
    "        # fpr(=false positive rate), tpr(=true positive rate =Sensitivity) , thresholds (differtent thresholds [normal: <0.5=0; >0.5=1] jetzt 0.1 0.2 0.3 ... bei denen die fpr und tps gemessen wird)\n",
    "#         fpr, tpr, thresholds = roc_curve(lable_list, output_prob_1, sample_weight=None) # Wahrscheinlichkeiten der Klasse die seltener vorkommt\n",
    "#         print(\"fpr\", fpr)\n",
    "#         print(\"tpr\", tpr)\n",
    "#         roc_auc = auc(fpr, tpr)\n",
    "#         print(\"AUC\")\n",
    "#         print(roc_auc)\n",
    "        \n",
    "#         # Perfekt threshold to take, instead of threshold 0.5\n",
    "#         gmeans = np.sqrt(tpr * (1-fpr))\n",
    "#         ix = np.argmax(gmeans)\n",
    "#         print(\"Threshold\", thresholds[ix], \"tpr Value\", gmeans[ix])\n",
    "        \n",
    "#         display = RocCurveDisplay(fpr=fpr, tpr=tpr, roc_auc=roc_auc, estimator_name='')\n",
    "#         #display.plot()\n",
    "        \n",
    "#         f, ax = plt.subplots(figsize=(15, 9))\n",
    "#         plt.plot([0,1],[0,1], 'k--')\n",
    "#         plt.plot(fpr, tpr, label= \"DaniNet\")\n",
    "#         plt.legend()\n",
    "#         plt.xlabel(\"FPR\")\n",
    "#         plt.ylabel(\"TPR\")\n",
    "#         plt.title('Receiver Operating Characteristic')\n",
    "#         plt.show()\n",
    "        \n",
    "        tensorboard_logs = {\n",
    "            \"test_loss\": mean_test_loss,\n",
    "            \"test_acc\": acc\n",
    "        }\n",
    "        \n",
    "        return {\"log\": tensorboard_logs}"
   ]
  },
  {
   "cell_type": "code",
   "execution_count": 10,
   "id": "75082d73-2a90-4846-bc1f-226ea34e0419",
   "metadata": {
    "pycharm": {
     "name": "#%%\n"
    }
   },
   "outputs": [
    {
     "name": "stderr",
     "output_type": "stream",
     "text": [
      "GPU available: True, used: True\n",
      "TPU available: False, using: 0 TPU cores\n",
      "CUDA_VISIBLE_DEVICES: [0]\n"
     ]
    },
    {
     "name": "stdout",
     "output_type": "stream",
     "text": [
      "=================================================================\n",
      "Layer (type:depth-idx)                   Param #\n",
      "=================================================================\n",
      "├─ResNet: 1-1                            --\n",
      "|    └─ConstantPad2d: 2-1                --\n",
      "|    └─Conv2d: 2-2                       9,408\n",
      "|    └─BatchNorm2d: 2-3                  128\n",
      "|    └─ReLU: 2-4                         --\n",
      "|    └─MaxPool2d: 2-5                    --\n",
      "|    └─Sequential: 2-6                   --\n",
      "|    |    └─Bottleneck: 3-1              75,008\n",
      "|    |    └─Bottleneck: 3-2              70,400\n",
      "|    |    └─Bottleneck: 3-3              70,400\n",
      "|    └─Sequential: 2-7                   --\n",
      "|    |    └─Bottleneck: 3-4              379,392\n",
      "|    |    └─Bottleneck: 3-5              280,064\n",
      "|    |    └─Bottleneck: 3-6              280,064\n",
      "|    |    └─Bottleneck: 3-7              280,064\n",
      "|    └─Sequential: 2-8                   --\n",
      "|    |    └─Bottleneck: 3-8              1,512,448\n",
      "|    |    └─Bottleneck: 3-9              1,117,184\n",
      "|    |    └─Bottleneck: 3-10             1,117,184\n",
      "|    |    └─Bottleneck: 3-11             1,117,184\n",
      "|    |    └─Bottleneck: 3-12             1,117,184\n",
      "|    |    └─Bottleneck: 3-13             1,117,184\n",
      "|    └─Sequential: 2-9                   --\n",
      "|    |    └─Bottleneck: 3-14             6,039,552\n",
      "|    |    └─Bottleneck: 3-15             4,462,592\n",
      "|    |    └─Bottleneck: 3-16             4,462,592\n",
      "|    └─AdaptiveAvgPool2d: 2-10           --\n",
      "|    └─Linear: 2-11                      4,098\n",
      "├─CrossEntropyLoss: 1-2                  --\n",
      "=================================================================\n",
      "Total params: 23,512,130\n",
      "Trainable params: 23,512,130\n",
      "Non-trainable params: 0\n",
      "=================================================================\n",
      "=================================================================\n",
      "Layer (type:depth-idx)                   Param #\n",
      "=================================================================\n",
      "├─ResNet: 1-1                            --\n",
      "|    └─ConstantPad2d: 2-1                --\n",
      "|    └─Conv2d: 2-2                       9,408\n",
      "|    └─BatchNorm2d: 2-3                  128\n",
      "|    └─ReLU: 2-4                         --\n",
      "|    └─MaxPool2d: 2-5                    --\n",
      "|    └─Sequential: 2-6                   --\n",
      "|    |    └─Bottleneck: 3-1              75,008\n",
      "|    |    └─Bottleneck: 3-2              70,400\n",
      "|    |    └─Bottleneck: 3-3              70,400\n",
      "|    └─Sequential: 2-7                   --\n",
      "|    |    └─Bottleneck: 3-4              379,392\n",
      "|    |    └─Bottleneck: 3-5              280,064\n",
      "|    |    └─Bottleneck: 3-6              280,064\n",
      "|    |    └─Bottleneck: 3-7              280,064\n",
      "|    └─Sequential: 2-8                   --\n",
      "|    |    └─Bottleneck: 3-8              1,512,448\n",
      "|    |    └─Bottleneck: 3-9              1,117,184\n",
      "|    |    └─Bottleneck: 3-10             1,117,184\n",
      "|    |    └─Bottleneck: 3-11             1,117,184\n",
      "|    |    └─Bottleneck: 3-12             1,117,184\n",
      "|    |    └─Bottleneck: 3-13             1,117,184\n",
      "|    └─Sequential: 2-9                   --\n",
      "|    |    └─Bottleneck: 3-14             6,039,552\n",
      "|    |    └─Bottleneck: 3-15             4,462,592\n",
      "|    |    └─Bottleneck: 3-16             4,462,592\n",
      "|    └─AdaptiveAvgPool2d: 2-10           --\n",
      "|    └─Linear: 2-11                      4,098\n",
      "├─CrossEntropyLoss: 1-2                  --\n",
      "=================================================================\n",
      "Total params: 23,512,130\n",
      "Trainable params: 23,512,130\n",
      "Non-trainable params: 0\n",
      "=================================================================\n"
     ]
    },
    {
     "name": "stderr",
     "output_type": "stream",
     "text": [
      "\u001b[34m\u001b[1mwandb\u001b[0m: Currently logged in as: \u001b[33mwolfda95\u001b[0m (use `wandb login --relogin` to force relogin)\n",
      "\u001b[34m\u001b[1mwandb\u001b[0m: wandb version 0.12.20 is available!  To upgrade, please run:\n",
      "\u001b[34m\u001b[1mwandb\u001b[0m:  $ pip install wandb --upgrade\n"
     ]
    },
    {
     "data": {
      "text/html": [
       "\n",
       "                    Syncing run <strong><a href=\"https://wandb.ai/wolfda95/swav_CovidHalfKlein_downstream/runs/275jg49d\" target=\"_blank\">Domain_SwAV_E567_AllSeg_bs16_lr-4_Aug</a></strong> to <a href=\"https://wandb.ai/wolfda95/swav_CovidHalfKlein_downstream\" target=\"_blank\">Weights & Biases</a> (<a href=\"https://docs.wandb.com/integrations/jupyter.html\" target=\"_blank\">docs</a>).<br/>\n",
       "\n",
       "                "
      ],
      "text/plain": [
       "<IPython.core.display.HTML object>"
      ]
     },
     "metadata": {},
     "output_type": "display_data"
    },
    {
     "name": "stderr",
     "output_type": "stream",
     "text": [
      "\n",
      "  | Name          | Type             | Params\n",
      "---------------------------------------------------\n",
      "0 | model         | ResNet           | 23 M  \n",
      "1 | loss_function | CrossEntropyLoss | 0     \n"
     ]
    },
    {
     "name": "stdout",
     "output_type": "stream",
     "text": [
      "Val Data Loader 1639\n"
     ]
    },
    {
     "data": {
      "application/vnd.jupyter.widget-view+json": {
       "model_id": "",
       "version_major": 2,
       "version_minor": 0
      },
      "text/plain": [
       "Validation sanity check: 0it [00:00, ?it/s]"
      ]
     },
     "metadata": {},
     "output_type": "display_data"
    },
    {
     "name": "stdout",
     "output_type": "stream",
     "text": [
      "Train Data Loader | Bs: 16 | len 308 | ges 4928\n",
      "Val Data Loader 1639\n"
     ]
    },
    {
     "name": "stderr",
     "output_type": "stream",
     "text": [
      "/home/wolfda/anaconda3/envs/Monai/lib/python3.9/site-packages/torch/nn/functional.py:718: UserWarning: Named tensors and all their associated APIs are an experimental feature and subject to change. Please do not use them for anything important until they are released as stable. (Triggered internally at  /opt/conda/conda-bld/pytorch_1623448255797/work/c10/core/TensorImpl.h:1156.)\n",
      "  return torch.max_pool2d(input, kernel_size, stride, padding, dilation, ceil_mode)\n"
     ]
    },
    {
     "data": {
      "application/vnd.jupyter.widget-view+json": {
       "model_id": "e18a974b7f1a41419dee8dd31c9b572d",
       "version_major": 2,
       "version_minor": 0
      },
      "text/plain": [
       "Training: 0it [00:00, ?it/s]"
      ]
     },
     "metadata": {},
     "output_type": "display_data"
    },
    {
     "data": {
      "application/vnd.jupyter.widget-view+json": {
       "model_id": "",
       "version_major": 2,
       "version_minor": 0
      },
      "text/plain": [
       "Validating: 0it [00:00, ?it/s]"
      ]
     },
     "metadata": {},
     "output_type": "display_data"
    },
    {
     "data": {
      "application/vnd.jupyter.widget-view+json": {
       "model_id": "",
       "version_major": 2,
       "version_minor": 0
      },
      "text/plain": [
       "Validating: 0it [00:00, ?it/s]"
      ]
     },
     "metadata": {},
     "output_type": "display_data"
    },
    {
     "data": {
      "application/vnd.jupyter.widget-view+json": {
       "model_id": "",
       "version_major": 2,
       "version_minor": 0
      },
      "text/plain": [
       "Validating: 0it [00:00, ?it/s]"
      ]
     },
     "metadata": {},
     "output_type": "display_data"
    },
    {
     "data": {
      "application/vnd.jupyter.widget-view+json": {
       "model_id": "",
       "version_major": 2,
       "version_minor": 0
      },
      "text/plain": [
       "Validating: 0it [00:00, ?it/s]"
      ]
     },
     "metadata": {},
     "output_type": "display_data"
    },
    {
     "data": {
      "application/vnd.jupyter.widget-view+json": {
       "model_id": "",
       "version_major": 2,
       "version_minor": 0
      },
      "text/plain": [
       "Validating: 0it [00:00, ?it/s]"
      ]
     },
     "metadata": {},
     "output_type": "display_data"
    },
    {
     "data": {
      "application/vnd.jupyter.widget-view+json": {
       "model_id": "",
       "version_major": 2,
       "version_minor": 0
      },
      "text/plain": [
       "Validating: 0it [00:00, ?it/s]"
      ]
     },
     "metadata": {},
     "output_type": "display_data"
    },
    {
     "data": {
      "application/vnd.jupyter.widget-view+json": {
       "model_id": "",
       "version_major": 2,
       "version_minor": 0
      },
      "text/plain": [
       "Validating: 0it [00:00, ?it/s]"
      ]
     },
     "metadata": {},
     "output_type": "display_data"
    },
    {
     "data": {
      "application/vnd.jupyter.widget-view+json": {
       "model_id": "",
       "version_major": 2,
       "version_minor": 0
      },
      "text/plain": [
       "Validating: 0it [00:00, ?it/s]"
      ]
     },
     "metadata": {},
     "output_type": "display_data"
    },
    {
     "data": {
      "application/vnd.jupyter.widget-view+json": {
       "model_id": "",
       "version_major": 2,
       "version_minor": 0
      },
      "text/plain": [
       "Validating: 0it [00:00, ?it/s]"
      ]
     },
     "metadata": {},
     "output_type": "display_data"
    },
    {
     "data": {
      "application/vnd.jupyter.widget-view+json": {
       "model_id": "",
       "version_major": 2,
       "version_minor": 0
      },
      "text/plain": [
       "Validating: 0it [00:00, ?it/s]"
      ]
     },
     "metadata": {},
     "output_type": "display_data"
    },
    {
     "data": {
      "application/vnd.jupyter.widget-view+json": {
       "model_id": "",
       "version_major": 2,
       "version_minor": 0
      },
      "text/plain": [
       "Validating: 0it [00:00, ?it/s]"
      ]
     },
     "metadata": {},
     "output_type": "display_data"
    },
    {
     "data": {
      "application/vnd.jupyter.widget-view+json": {
       "model_id": "",
       "version_major": 2,
       "version_minor": 0
      },
      "text/plain": [
       "Validating: 0it [00:00, ?it/s]"
      ]
     },
     "metadata": {},
     "output_type": "display_data"
    },
    {
     "data": {
      "application/vnd.jupyter.widget-view+json": {
       "model_id": "",
       "version_major": 2,
       "version_minor": 0
      },
      "text/plain": [
       "Validating: 0it [00:00, ?it/s]"
      ]
     },
     "metadata": {},
     "output_type": "display_data"
    },
    {
     "data": {
      "application/vnd.jupyter.widget-view+json": {
       "model_id": "",
       "version_major": 2,
       "version_minor": 0
      },
      "text/plain": [
       "Validating: 0it [00:00, ?it/s]"
      ]
     },
     "metadata": {},
     "output_type": "display_data"
    },
    {
     "data": {
      "application/vnd.jupyter.widget-view+json": {
       "model_id": "",
       "version_major": 2,
       "version_minor": 0
      },
      "text/plain": [
       "Validating: 0it [00:00, ?it/s]"
      ]
     },
     "metadata": {},
     "output_type": "display_data"
    },
    {
     "data": {
      "application/vnd.jupyter.widget-view+json": {
       "model_id": "",
       "version_major": 2,
       "version_minor": 0
      },
      "text/plain": [
       "Validating: 0it [00:00, ?it/s]"
      ]
     },
     "metadata": {},
     "output_type": "display_data"
    },
    {
     "data": {
      "application/vnd.jupyter.widget-view+json": {
       "model_id": "",
       "version_major": 2,
       "version_minor": 0
      },
      "text/plain": [
       "Validating: 0it [00:00, ?it/s]"
      ]
     },
     "metadata": {},
     "output_type": "display_data"
    },
    {
     "data": {
      "application/vnd.jupyter.widget-view+json": {
       "model_id": "",
       "version_major": 2,
       "version_minor": 0
      },
      "text/plain": [
       "Validating: 0it [00:00, ?it/s]"
      ]
     },
     "metadata": {},
     "output_type": "display_data"
    },
    {
     "data": {
      "application/vnd.jupyter.widget-view+json": {
       "model_id": "",
       "version_major": 2,
       "version_minor": 0
      },
      "text/plain": [
       "Validating: 0it [00:00, ?it/s]"
      ]
     },
     "metadata": {},
     "output_type": "display_data"
    },
    {
     "data": {
      "application/vnd.jupyter.widget-view+json": {
       "model_id": "",
       "version_major": 2,
       "version_minor": 0
      },
      "text/plain": [
       "Validating: 0it [00:00, ?it/s]"
      ]
     },
     "metadata": {},
     "output_type": "display_data"
    },
    {
     "name": "stderr",
     "output_type": "stream",
     "text": [
      "Saving latest checkpoint..\n"
     ]
    },
    {
     "name": "stdout",
     "output_type": "stream",
     "text": [
      "Test Data Loader 1639\n"
     ]
    },
    {
     "data": {
      "application/vnd.jupyter.widget-view+json": {
       "model_id": "e105d43176974498aedb974dde076e9d",
       "version_major": 2,
       "version_minor": 0
      },
      "text/plain": [
       "Testing: 0it [00:00, ?it/s]"
      ]
     },
     "metadata": {},
     "output_type": "display_data"
    },
    {
     "name": "stderr",
     "output_type": "stream",
     "text": [
      "/tmp/ipykernel_336250/3899707428.py:173: UserWarning: Implicit dimension choice for softmax has been deprecated. Change the call to include dim=X as an argument.\n",
      "  outputs = torch.nn.functional.softmax(outputs)\n"
     ]
    },
    {
     "name": "stdout",
     "output_type": "stream",
     "text": [
      "\n",
      "True 1411\n",
      "False 228\n",
      "\n",
      "acc tensor(0.8609)\n",
      "precision_score [0.77822045 0.93115124]\n",
      "\n",
      "Classification Report: \n",
      "              precision    recall  f1-score   support\n",
      "\n",
      "         0.0       0.78      0.91      0.84       647\n",
      "         1.0       0.93      0.83      0.88       992\n",
      "\n",
      "    accuracy                           0.86      1639\n",
      "   macro avg       0.85      0.87      0.86      1639\n",
      "weighted avg       0.87      0.86      0.86      1639\n",
      "\n",
      "--------------------------------------------------------------------------------\n",
      "DATALOADER:0 TEST RESULTS\n",
      "{'test_acc': tensor(0.8609), 'test_loss': tensor(0.4518, device='cuda:0')}\n",
      "--------------------------------------------------------------------------------\n"
     ]
    },
    {
     "name": "stderr",
     "output_type": "stream",
     "text": [
      "/tmp/ipykernel_336250/3899707428.py:238: UserWarning: To copy construct from a tensor, it is recommended to use sourceTensor.clone().detach() or sourceTensor.clone().detach().requires_grad_(True), rather than torch.tensor(sourceTensor).\n",
      "  mean_test_loss = torch.tensor(test_loss / num_items) # mittlerer Loss\n"
     ]
    },
    {
     "data": {
      "text/plain": [
       "[{'test_loss': 0.451754629611969, 'test_acc': 0.860890805721283}]"
      ]
     },
     "execution_count": 10,
     "metadata": {},
     "output_type": "execute_result"
    },
    {
     "data": {
      "image/png": "[encoded data removed]",
      "text/plain": [
       "<Figure size 432x288 with 2 Axes>"
      ]
     },
     "metadata": {
      "needs_background": "light"
     },
     "output_type": "display_data"
    }
   ],
   "source": [
    "# Train, Test, Save\n",
    "\n",
    "# initialise the LightningModule\n",
    "net = Net()\n",
    "\n",
    "# Pfad zum Speichern: \n",
    "log_dir = os.path.join(root_dir, \"save\", \"model_\" + Model, \"logs\") # tensorboard logs\n",
    "checkpoint_dir = os.path.join(root_dir, \"save\", \"model_\" + Model, \"versuch_\" + Versuch) # model \n",
    "\n",
    "# weights and biases\n",
    "wandb_logger = WandbLogger(project=Model, name=Versuch, tags = wandb_tag, save_dir=checkpoint_dir)\n",
    "\n",
    "# tensorboard loggers speichern\n",
    "tb_logger = pytorch_lightning.loggers.TensorBoardLogger(save_dir=log_dir) # macht jedes mal ein neuen Ordner auf (logs-default-version*[0,1,2...])\n",
    "\n",
    "# Netz speichern \n",
    "checkpoint_callback = ModelCheckpoint( #  macht jedes mal ein neuen Ordner auf (logs-\"test1-{epoch}-{val_loss:.2f}\") speichert Stand des letzten Trainingsschritts\n",
    "    filepath=os.path.join(checkpoint_dir, \"{epoch}-{val_loss:.2f}\"), # Speicher Pfad **2\n",
    "    save_last = True, # Speichert den Stand der letzten Epoche des Trainings (Name: last.ckpt)\n",
    "    save_top_k=100, # Speichert den Stand der k=2 besten Epochen [bester val loss] des Trainings (Name: epoch=*-val_loss=*.ckpt)\n",
    ")\n",
    "\n",
    "\n",
    "# Info Speichern\n",
    "torch.save(info, checkpoint_dir + \"/info.pt\")\n",
    "\n",
    "# Info printen\n",
    "print(summary(net))\n",
    "\n",
    "\n",
    "# initialise Lightning's trainer.\n",
    "trainer = pytorch_lightning.Trainer(\n",
    "    gpus=[-1],\n",
    "    max_epochs=Epochen, # Epochen\n",
    "    #logger=tb_logger, # tensorboard \n",
    "    logger=wandb_logger, # weight & biasis \n",
    "    checkpoint_callback=checkpoint_callback, # Model checkpoints speichern\n",
    "    num_sanity_val_steps=1,\n",
    "    #resume_from_checkpoint = pretrained_weights\n",
    ")\n",
    "\n",
    "# train + val\n",
    "trainer.fit(net)\n",
    "\n",
    "# test\n",
    "trainer.test(net)"
   ]
  },
  {
   "cell_type": "code",
   "execution_count": 18,
   "id": "706d5c95-21b5-4d8c-a112-16a31bfd4880",
   "metadata": {
    "pycharm": {
     "name": "#%%\n"
    }
   },
   "outputs": [
    {
     "name": "stderr",
     "output_type": "stream",
     "text": [
      "GPU available: True, used: True\n",
      "TPU available: False, using: 0 TPU cores\n",
      "CUDA_VISIBLE_DEVICES: [0]\n"
     ]
    },
    {
     "name": "stdout",
     "output_type": "stream",
     "text": [
      "======================================================================\n",
      "Layer (type:depth-idx)                        Param #\n",
      "======================================================================\n",
      "├─SEResNet50: 1-1                             --\n",
      "|    └─Sequential: 2-1                        --\n",
      "|    |    └─Conv2d: 3-1                       9,408\n",
      "|    |    └─BatchNorm2d: 3-2                  128\n",
      "|    |    └─ReLU: 3-3                         --\n",
      "|    |    └─MaxPool2d: 3-4                    --\n",
      "|    └─Sequential: 2-2                        --\n",
      "|    |    └─SEResNetBottleneck: 3-5           83,472\n",
      "|    |    └─SEResNetBottleneck: 3-6           78,864\n",
      "|    |    └─SEResNetBottleneck: 3-7           78,864\n",
      "|    └─Sequential: 2-3                        --\n",
      "|    |    └─SEResNetBottleneck: 3-8           412,704\n",
      "|    |    └─SEResNetBottleneck: 3-9           313,376\n",
      "|    |    └─SEResNetBottleneck: 3-10          313,376\n",
      "|    |    └─SEResNetBottleneck: 3-11          313,376\n",
      "|    └─Sequential: 2-4                        --\n",
      "|    |    └─SEResNetBottleneck: 3-12          1,644,608\n",
      "|    |    └─SEResNetBottleneck: 3-13          1,249,344\n",
      "|    |    └─SEResNetBottleneck: 3-14          1,249,344\n",
      "|    |    └─SEResNetBottleneck: 3-15          1,249,344\n",
      "|    |    └─SEResNetBottleneck: 3-16          1,249,344\n",
      "|    |    └─SEResNetBottleneck: 3-17          1,249,344\n",
      "|    └─Sequential: 2-5                        --\n",
      "|    |    └─SEResNetBottleneck: 3-18          6,566,016\n",
      "|    |    └─SEResNetBottleneck: 3-19          4,989,056\n",
      "|    |    └─SEResNetBottleneck: 3-20          4,989,056\n",
      "|    └─AdaptiveAvgPool2d: 2-6                 --\n",
      "|    └─Dropout: 2-7                           --\n",
      "|    └─Linear: 2-8                            4,098\n",
      "├─Sequential: 1-2                             --\n",
      "|    └─Dropout: 2-9                           --\n",
      "|    └─Linear: 2-10                           8,192\n",
      "|    └─BatchNorm1d: 2-11                      128\n",
      "|    └─ReLU: 2-12                             --\n",
      "|    └─Dropout: 2-13                          --\n",
      "|    └─Linear: 2-14                           130\n",
      "├─CrossEntropyLoss: 1-3                       --\n",
      "======================================================================\n",
      "Total params: 26,051,572\n",
      "Trainable params: 26,051,572\n",
      "Non-trainable params: 0\n",
      "======================================================================\n",
      "======================================================================\n",
      "Layer (type:depth-idx)                        Param #\n",
      "======================================================================\n",
      "├─SEResNet50: 1-1                             --\n",
      "|    └─Sequential: 2-1                        --\n",
      "|    |    └─Conv2d: 3-1                       9,408\n",
      "|    |    └─BatchNorm2d: 3-2                  128\n",
      "|    |    └─ReLU: 3-3                         --\n",
      "|    |    └─MaxPool2d: 3-4                    --\n",
      "|    └─Sequential: 2-2                        --\n",
      "|    |    └─SEResNetBottleneck: 3-5           83,472\n",
      "|    |    └─SEResNetBottleneck: 3-6           78,864\n",
      "|    |    └─SEResNetBottleneck: 3-7           78,864\n",
      "|    └─Sequential: 2-3                        --\n",
      "|    |    └─SEResNetBottleneck: 3-8           412,704\n",
      "|    |    └─SEResNetBottleneck: 3-9           313,376\n",
      "|    |    └─SEResNetBottleneck: 3-10          313,376\n",
      "|    |    └─SEResNetBottleneck: 3-11          313,376\n",
      "|    └─Sequential: 2-4                        --\n",
      "|    |    └─SEResNetBottleneck: 3-12          1,644,608\n",
      "|    |    └─SEResNetBottleneck: 3-13          1,249,344\n",
      "|    |    └─SEResNetBottleneck: 3-14          1,249,344\n",
      "|    |    └─SEResNetBottleneck: 3-15          1,249,344\n",
      "|    |    └─SEResNetBottleneck: 3-16          1,249,344\n",
      "|    |    └─SEResNetBottleneck: 3-17          1,249,344\n",
      "|    └─Sequential: 2-5                        --\n",
      "|    |    └─SEResNetBottleneck: 3-18          6,566,016\n",
      "|    |    └─SEResNetBottleneck: 3-19          4,989,056\n",
      "|    |    └─SEResNetBottleneck: 3-20          4,989,056\n",
      "|    └─AdaptiveAvgPool2d: 2-6                 --\n",
      "|    └─Dropout: 2-7                           --\n",
      "|    └─Linear: 2-8                            4,098\n",
      "├─Sequential: 1-2                             --\n",
      "|    └─Dropout: 2-9                           --\n",
      "|    └─Linear: 2-10                           8,192\n",
      "|    └─BatchNorm1d: 2-11                      128\n",
      "|    └─ReLU: 2-12                             --\n",
      "|    └─Dropout: 2-13                          --\n",
      "|    └─Linear: 2-14                           130\n",
      "├─CrossEntropyLoss: 1-3                       --\n",
      "======================================================================\n",
      "Total params: 26,051,572\n",
      "Trainable params: 26,051,572\n",
      "Non-trainable params: 0\n",
      "======================================================================\n",
      "Test Data Loader 1639\n"
     ]
    },
    {
     "name": "stderr",
     "output_type": "stream",
     "text": [
      "/home/wolfda/anaconda3/envs/Monai/lib/python3.9/site-packages/pytorch_lightning/utilities/distributed.py:37: UserWarning: Could not log computational graph since the `model.example_input_array` attribute is not set or `input_array` was not given\n",
      "  warnings.warn(*args, **kwargs)\n"
     ]
    },
    {
     "data": {
      "application/vnd.jupyter.widget-view+json": {
       "model_id": "0084cc4ddb114299b06ef1f96006021b",
       "version_major": 2,
       "version_minor": 0
      },
      "text/plain": [
       "Testing: 0it [00:00, ?it/s]"
      ]
     },
     "metadata": {},
     "output_type": "display_data"
    },
    {
     "name": "stderr",
     "output_type": "stream",
     "text": [
      "/tmp/ipykernel_238719/2112880624.py:150: UserWarning: Implicit dimension choice for softmax has been deprecated. Change the call to include dim=X as an argument.\n",
      "  outputs = torch.nn.functional.softmax(outputs)\n"
     ]
    },
    {
     "name": "stdout",
     "output_type": "stream",
     "text": [
      "\n",
      "True 1472\n",
      "False 167\n",
      "\n",
      "acc tensor(0.8981)\n",
      "precision_score [0.80690537 0.98133022]\n",
      "\n",
      "Classification Report: \n",
      "              precision    recall  f1-score   support\n",
      "\n",
      "         0.0       0.81      0.98      0.88       647\n",
      "         1.0       0.98      0.85      0.91       992\n",
      "\n",
      "    accuracy                           0.90      1639\n",
      "   macro avg       0.89      0.91      0.90      1639\n",
      "weighted avg       0.91      0.90      0.90      1639\n",
      "\n",
      "--------------------------------------------------------------------------------\n",
      "DATALOADER:0 TEST RESULTS\n",
      "{'test_acc': tensor(0.8981), 'test_loss': tensor(0.4113, device='cuda:0')}\n",
      "--------------------------------------------------------------------------------\n"
     ]
    },
    {
     "name": "stderr",
     "output_type": "stream",
     "text": [
      "/tmp/ipykernel_238719/2112880624.py:215: UserWarning: To copy construct from a tensor, it is recommended to use sourceTensor.clone().detach() or sourceTensor.clone().detach().requires_grad_(True), rather than torch.tensor(sourceTensor).\n",
      "  mean_test_loss = torch.tensor(test_loss / num_items) # mittlerer Loss\n"
     ]
    },
    {
     "data": {
      "image/png": "[encoded data removed]",
      "text/plain": [
       "<Figure size 432x288 with 2 Axes>"
      ]
     },
     "metadata": {
      "needs_background": "light"
     },
     "output_type": "display_data"
    }
   ],
   "source": [
    "### Test mit trainiertem Modell (A) Testdurchlauf mit den kompletten Testdaten\n",
    "# Legt eine Datei \"lightning_logs\" an, die einfach löschen \n",
    "\n",
    "# Trainiertes Model wieder Laden (mit Pfad wie oben festgelegt **2)\n",
    "net = Net.load_from_checkpoint( # \"Net\" ist der Name unseres Netzes **1\n",
    "    \"/home/wolfda/Clinic_Data/Challenge/CT_PreTrain/Challenge_COVID-19-20_v2/Data/2D/Results/save/model_swav_CovidHalfKlein_downstream/versuch_IM_Supervised_AllSeg_bs16_lr-4_Aug/epoch=19-val_loss=0.40.ckpt\" # [model: A,B,C,..], [versuch: 0,1,2,..]\n",
    ") # letzte Epoche: last.ckpt | Besten 2 Epochen: epoch=5-val_loss=1.34.ckpt\n",
    "# ACHTUNG: Oben die Richtigen Daten nehmen + Richtiges Netz\n",
    "\n",
    "# Info über das Netz\n",
    "print(summary(net))\n",
    "\n",
    "# Info\n",
    "#print(\"INFO:\", torch.load(\"/home/wolfda/Clinic_Data/Data/Covid_Concern/Networks/3D_DenseNet_PreTrain/save/model_E/versuch_0/info.pt\")) # [model: A,B,C,..], [versuch: 0,1,2,..]\n",
    "\n",
    "# initialise Lightning's trainer.\n",
    "trainer = pytorch_lightning.Trainer(\n",
    "    gpus=[-1],\n",
    "    max_epochs=4,\n",
    "    num_sanity_val_steps=1,\n",
    "    checkpoint_callback=False\n",
    ")\n",
    "\n",
    "# test\n",
    "out = trainer.test(net)\n",
    "#print(out)\n",
    "\n",
    "# Eval Modus (macht PT Lightning bei model.test automatisch)\n",
    "Netz = net.eval()\n",
    "# Das ganze Netzt ausgeben\n",
    "#print(\"Ganzes Netz: \")\n",
    "#print(Netz)"
   ]
  },
  {
   "cell_type": "code",
   "execution_count": 15,
   "id": "9404bb50-ec24-4e0e-94c9-0d39098be178",
   "metadata": {
    "pycharm": {
     "name": "#%%\n"
    }
   },
   "outputs": [
    {
     "name": "stderr",
     "output_type": "stream",
     "text": [
      "WARNING:root:no value was provided for `target_layer`, thus set to 'model.layer1.0.conv3'.\n",
      "/tmp/ipykernel_179034/3220695701.py:48: UserWarning: Implicit dimension choice for softmax has been deprecated. Change the call to include dim=X as an argument.\n",
      "  output = torch.nn.functional.softmax(y_hat)\n"
     ]
    },
    {
     "name": "stdout",
     "output_type": "stream",
     "text": [
      "tensor([1], device='cuda:0')\n"
     ]
    },
    {
     "data": {
      "image/png": "[encoded data removed]",
      "text/plain": [
       "<Figure size 432x288 with 1 Axes>"
      ]
     },
     "metadata": {
      "needs_background": "light"
     },
     "output_type": "display_data"
    }
   ],
   "source": [
    "###### Explainable AI\n",
    "import monai\n",
    "\n",
    "# Trainiertes Model wieder Laden (mit Pfad wie oben festgelegt **2)\n",
    "model = Net.load_from_checkpoint(\"/home/wolfda/Clinic_Data/Challenge/CT_PreTrain/Challenge_COVID-19-20_v2/Data/2D/Results/save/model_swav_CovidAll_downstream/versuch_IM_Supervised_AllSeg_bs12_lr-4/epoch=19-val_loss=0.38.ckpt\") # \"Net\" ist der Name unseres Netzes **1\n",
    "# letzte Epoche: last.ckpt | Besten 2 Epochen: epoch=5-val_loss=1.34.ckpt\n",
    "\n",
    "\n",
    "# Image Laden\n",
    "\n",
    "# Image Path (png / jpeg)\n",
    "image_path = \"/home/wolfda/Clinic_Data/Challenge/CT_PreTrain/Challenge_COVID-19-20_v2/Data/2D/All_AlleSeg/0_noCovid/volume-covid19-A-0003_185_lable_0.jpeg\"\n",
    "\n",
    "# Monai png/jpeg laden\n",
    "load = monai.transforms.LoadImage()\n",
    "im = load(image_path)\n",
    "image = im[0]\n",
    "#print(image.shape)\n",
    "\n",
    "# Channel vorne (512x512x3 -> 3x512x512)\n",
    "channel = monai.transforms.AsChannelFirst(channel_dim=- 1)\n",
    "image = channel(image)\n",
    "\n",
    "# Eine Dim dranhängen (1x3x512x512)\n",
    "image = np.expand_dims(image, 0)\n",
    "#print(image.shape)\n",
    "\n",
    "# Numpy to torch\n",
    "image = torch.from_numpy(image)\n",
    "\n",
    "# Auf Grafikkarte \n",
    "image = image.cuda()\n",
    "\n",
    "# Grad Cam\n",
    "cam_extractor = SmoothGradCAMpp(model, input_shape = [3, 512, 512])\n",
    "\n",
    "# Namen der Layer:\n",
    "#print(medcam.get_layers(model))\n",
    "\n",
    "# BESSER:\n",
    "# M3d-CAM: gbp (Guided Backpropagation) | gcam (Grad-Cam, default) | ggcam (Guided Grad-Cam) | gcampp (Grad-Cam++)\n",
    "model = medcam.inject(model, output_dir=\"attention_maps\", backend='gcam', label='best', save_maps=True)\n",
    "# Speichert es da wo code liegt in Ordner \"attention_maps\"\n",
    "\n",
    "model.eval()\n",
    "y_hat = model(image) # Das Bild von einem Patienetn ins Netz geben\n",
    "\n",
    "output = torch.nn.functional.softmax(y_hat)\n",
    "klasse = torch.argmax(output, dim=1)\n",
    "print(klasse)\n",
    "\n",
    "# SCHLECHTER: \n",
    "# Grad Cam\n",
    "activation_map = cam_extractor(torch.argmax(y_hat, dim=1).item(), y_hat)\n",
    "# Visualize the raw CAM\n",
    "plt.imshow(activation_map.cpu().numpy()); plt.axis('off'); plt.tight_layout(); plt.show()"
   ]
  },
  {
   "cell_type": "code",
   "execution_count": null,
   "id": "37aa3b73-3313-475e-b7bc-45ae8d916fe1",
   "metadata": {},
   "outputs": [],
   "source": []
  }
 ],
 "metadata": {
  "kernelspec": {
   "display_name": "Python 3 (ipykernel)",
   "language": "python",
   "name": "python3"
  },
  "language_info": {
   "codemirror_mode": {
    "name": "ipython",
    "version": 3
   },
   "file_extension": ".py",
   "mimetype": "text/x-python",
   "name": "python",
   "nbconvert_exporter": "python",
   "pygments_lexer": "ipython3",
   "version": "3.9.5"
  }
 },
 "nbformat": 4,
 "nbformat_minor": 5
}
